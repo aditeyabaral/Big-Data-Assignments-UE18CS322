{
  "nbformat": 4,
  "nbformat_minor": 0,
  "metadata": {
    "colab": {
      "name": "Siamese - fastText",
      "provenance": [],
      "collapsed_sections": [],
      "authorship_tag": "ABX9TyNX9O6dL9Zdna2Zv/hGzQdW",
      "include_colab_link": true
    },
    "kernelspec": {
      "name": "python3",
      "display_name": "Python 3"
    }
  },
  "cells": [
    {
      "cell_type": "markdown",
      "metadata": {
        "id": "view-in-github",
        "colab_type": "text"
      },
      "source": [
        "<a href=\"https://colab.research.google.com/github/aditeyabaral/Big-Data-Assignments-UE18CS322/blob/main/notebooks/Siamese_fastText.ipynb\" target=\"_parent\"><img src=\"https://colab.research.google.com/assets/colab-badge.svg\" alt=\"Open In Colab\"/></a>"
      ]
    },
    {
      "cell_type": "markdown",
      "metadata": {
        "id": "9zII8VL8t27G"
      },
      "source": [
        "# Importing Libraries"
      ]
    },
    {
      "cell_type": "code",
      "metadata": {
        "colab": {
          "base_uri": "https://localhost:8080/"
        },
        "id": "eMSAQJ0pvOv1",
        "outputId": "3e04fca2-e98d-4405-c096-6e96df95902f"
      },
      "source": [
        "import nltk\n",
        "nltk.download(\"punkt\")"
      ],
      "execution_count": 1,
      "outputs": [
        {
          "output_type": "stream",
          "text": [
            "[nltk_data] Downloading package punkt to /root/nltk_data...\n",
            "[nltk_data]   Unzipping tokenizers/punkt.zip.\n"
          ],
          "name": "stdout"
        },
        {
          "output_type": "execute_result",
          "data": {
            "text/plain": [
              "True"
            ]
          },
          "metadata": {
            "tags": []
          },
          "execution_count": 1
        }
      ]
    },
    {
      "cell_type": "code",
      "metadata": {
        "id": "Hi8UIHCsm2gz"
      },
      "source": [
        "import logging\n",
        "logging.basicConfig(format=\"%(asctime)s : %(levelname)s : %(message)s\", level=logging.INFO)"
      ],
      "execution_count": 2,
      "outputs": []
    },
    {
      "cell_type": "code",
      "metadata": {
        "colab": {
          "base_uri": "https://localhost:8080/"
        },
        "id": "PSZTQ31sq0Fo",
        "outputId": "8fec1dcc-8bac-4906-8baa-488bcede7751"
      },
      "source": [
        "import numpy as np\n",
        "import pandas as pd\n",
        "import re\n",
        "import string\n",
        "from google.colab import files\n",
        "from gensim.models import FastText\n",
        "from nltk.tokenize import word_tokenize, sent_tokenize\n",
        "from nltk.corpus import stopwords\n",
        "import matplotlib.pyplot as plt\n",
        "from sklearn.model_selection import train_test_split\n",
        "from tensorflow import keras\n",
        "from keras.preprocessing.text import Tokenizer \n",
        "from keras.preprocessing.sequence import pad_sequences\n",
        "from keras.layers import Input, LSTM, Embedding, Dense, Concatenate, TimeDistributed, Bidirectional\n",
        "from tensorflow.keras.models import Model\n",
        "from keras.utils.vis_utils import plot_model\n",
        "import attention\n",
        "from attention import AttentionLayer"
      ],
      "execution_count": 6,
      "outputs": [
        {
          "output_type": "stream",
          "text": [
            "2021-03-01 18:04:40,529 : INFO : 'pattern' package not found; tag filters are not available for English\n"
          ],
          "name": "stderr"
        }
      ]
    },
    {
      "cell_type": "code",
      "metadata": {
        "colab": {
          "base_uri": "https://localhost:8080/"
        },
        "id": "tfhoOjgtq-n_",
        "outputId": "67731d89-e2fe-46b7-bc85-d19ddd7e0afe"
      },
      "source": [
        "!curl -L -O https://raw.githubusercontent.com/aditeyabaral/abstractive-summarization/main/data/news_summary_more.csv"
      ],
      "execution_count": 3,
      "outputs": [
        {
          "output_type": "stream",
          "text": [
            "  % Total    % Received % Xferd  Average Speed   Time    Time     Time  Current\n",
            "                                 Dload  Upload   Total   Spent    Left  Speed\n",
            "100 39.4M  100 39.4M    0     0  22.4M      0  0:00:01  0:00:01 --:--:-- 22.4M\n"
          ],
          "name": "stdout"
        }
      ]
    },
    {
      "cell_type": "code",
      "metadata": {
        "colab": {
          "base_uri": "https://localhost:8080/"
        },
        "id": "pFNYneClJZg1",
        "outputId": "aa0ec50b-3d77-4baf-8c7a-f1fa313d890b"
      },
      "source": [
        "!curl -L -O https://raw.githubusercontent.com/aditeyabaral/abstractive-summarization/main/src/attention.py"
      ],
      "execution_count": 4,
      "outputs": [
        {
          "output_type": "stream",
          "text": [
            "  % Total    % Received % Xferd  Average Speed   Time    Time     Time  Current\n",
            "                                 Dload  Upload   Total   Spent    Left  Speed\n",
            "100  5230  100  5230    0     0  25763      0 --:--:-- --:--:-- --:--:-- 25763\n"
          ],
          "name": "stdout"
        }
      ]
    },
    {
      "cell_type": "code",
      "metadata": {
        "colab": {
          "base_uri": "https://localhost:8080/"
        },
        "id": "eaVHTLxdN4De",
        "outputId": "ef93bc4f-52d2-4e49-b7ab-01e00df35e4a"
      },
      "source": [
        "!pip install keras-self-attention"
      ],
      "execution_count": 5,
      "outputs": [
        {
          "output_type": "stream",
          "text": [
            "Collecting keras-self-attention\n",
            "  Downloading https://files.pythonhosted.org/packages/c3/34/e21dc6adcdab2be03781bde78c6c5d2b2136d35a1dd3e692d7e160ba062a/keras-self-attention-0.49.0.tar.gz\n",
            "Requirement already satisfied: numpy in /usr/local/lib/python3.7/dist-packages (from keras-self-attention) (1.19.5)\n",
            "Requirement already satisfied: Keras in /usr/local/lib/python3.7/dist-packages (from keras-self-attention) (2.4.3)\n",
            "Requirement already satisfied: scipy>=0.14 in /usr/local/lib/python3.7/dist-packages (from Keras->keras-self-attention) (1.4.1)\n",
            "Requirement already satisfied: h5py in /usr/local/lib/python3.7/dist-packages (from Keras->keras-self-attention) (2.10.0)\n",
            "Requirement already satisfied: pyyaml in /usr/local/lib/python3.7/dist-packages (from Keras->keras-self-attention) (3.13)\n",
            "Requirement already satisfied: six in /usr/local/lib/python3.7/dist-packages (from h5py->Keras->keras-self-attention) (1.15.0)\n",
            "Building wheels for collected packages: keras-self-attention\n",
            "  Building wheel for keras-self-attention (setup.py) ... \u001b[?25l\u001b[?25hdone\n",
            "  Created wheel for keras-self-attention: filename=keras_self_attention-0.49.0-cp37-none-any.whl size=19468 sha256=7e47e1fdbcb6b0d38740663455ff6154b81c374c075fb3331a5229afc57c5f4b\n",
            "  Stored in directory: /root/.cache/pip/wheels/6f/9d/c5/26693a5092d9313daeae94db04818fc0a2b7a48ea381989f34\n",
            "Successfully built keras-self-attention\n",
            "Installing collected packages: keras-self-attention\n",
            "Successfully installed keras-self-attention-0.49.0\n"
          ],
          "name": "stdout"
        }
      ]
    },
    {
      "cell_type": "markdown",
      "metadata": {
        "id": "ylAiZOjet6B7"
      },
      "source": [
        "# Reading Dataset"
      ]
    },
    {
      "cell_type": "code",
      "metadata": {
        "colab": {
          "base_uri": "https://localhost:8080/",
          "height": 224
        },
        "id": "ax16JtDvrQ21",
        "outputId": "65e442bb-9eae-47e5-933d-c6c4ce304ec4"
      },
      "source": [
        "df = pd.read_csv(\"news_summary_more.csv\")\n",
        "print(df.shape)\n",
        "df.head()"
      ],
      "execution_count": 7,
      "outputs": [
        {
          "output_type": "stream",
          "text": [
            "(98401, 2)\n"
          ],
          "name": "stdout"
        },
        {
          "output_type": "execute_result",
          "data": {
            "text/html": [
              "<div>\n",
              "<style scoped>\n",
              "    .dataframe tbody tr th:only-of-type {\n",
              "        vertical-align: middle;\n",
              "    }\n",
              "\n",
              "    .dataframe tbody tr th {\n",
              "        vertical-align: top;\n",
              "    }\n",
              "\n",
              "    .dataframe thead th {\n",
              "        text-align: right;\n",
              "    }\n",
              "</style>\n",
              "<table border=\"1\" class=\"dataframe\">\n",
              "  <thead>\n",
              "    <tr style=\"text-align: right;\">\n",
              "      <th></th>\n",
              "      <th>headlines</th>\n",
              "      <th>text</th>\n",
              "    </tr>\n",
              "  </thead>\n",
              "  <tbody>\n",
              "    <tr>\n",
              "      <th>0</th>\n",
              "      <td>upGrad learner switches to career in ML &amp; Al w...</td>\n",
              "      <td>Saurav Kant, an alumnus of upGrad and IIIT-B's...</td>\n",
              "    </tr>\n",
              "    <tr>\n",
              "      <th>1</th>\n",
              "      <td>Delhi techie wins free food from Swiggy for on...</td>\n",
              "      <td>Kunal Shah's credit card bill payment platform...</td>\n",
              "    </tr>\n",
              "    <tr>\n",
              "      <th>2</th>\n",
              "      <td>New Zealand end Rohit Sharma-led India's 12-ma...</td>\n",
              "      <td>New Zealand defeated India by 8 wickets in the...</td>\n",
              "    </tr>\n",
              "    <tr>\n",
              "      <th>3</th>\n",
              "      <td>Aegon life iTerm insurance plan helps customer...</td>\n",
              "      <td>With Aegon Life iTerm Insurance plan, customer...</td>\n",
              "    </tr>\n",
              "    <tr>\n",
              "      <th>4</th>\n",
              "      <td>Have known Hirani for yrs, what if MeToo claim...</td>\n",
              "      <td>Speaking about the sexual harassment allegatio...</td>\n",
              "    </tr>\n",
              "  </tbody>\n",
              "</table>\n",
              "</div>"
            ],
            "text/plain": [
              "                                           headlines                                               text\n",
              "0  upGrad learner switches to career in ML & Al w...  Saurav Kant, an alumnus of upGrad and IIIT-B's...\n",
              "1  Delhi techie wins free food from Swiggy for on...  Kunal Shah's credit card bill payment platform...\n",
              "2  New Zealand end Rohit Sharma-led India's 12-ma...  New Zealand defeated India by 8 wickets in the...\n",
              "3  Aegon life iTerm insurance plan helps customer...  With Aegon Life iTerm Insurance plan, customer...\n",
              "4  Have known Hirani for yrs, what if MeToo claim...  Speaking about the sexual harassment allegatio..."
            ]
          },
          "metadata": {
            "tags": []
          },
          "execution_count": 7
        }
      ]
    },
    {
      "cell_type": "markdown",
      "metadata": {
        "id": "HcCQZgE4t9GW"
      },
      "source": [
        "# Preprocessing Data"
      ]
    },
    {
      "cell_type": "code",
      "metadata": {
        "id": "1hVOo-IAqIQp"
      },
      "source": [
        "def formatArticleHeader(text):\n",
        "  text = text.strip().split(\"\\n\\n\")\n",
        "  header = text[0] + \". \"\n",
        "  del text[0]\n",
        "  #text[0] = header + text[0]\n",
        "  text = \"\\n\\n\".join(text)\n",
        "  return text"
      ],
      "execution_count": 8,
      "outputs": []
    },
    {
      "cell_type": "code",
      "metadata": {
        "id": "Iew5JvgErXw0"
      },
      "source": [
        "def cleanText(text):\n",
        "  contraction_mapping = {\"ain't\": \"is not\", \"aren't\": \"are not\",\"can't\": \"cannot\", \"'cause\": \"because\", \"could've\": \"could have\", \"couldn't\": \"could not\", \"didn't\": \"did not\", \"doesn't\": \"does not\", \"don't\": \"do not\", \"hadn't\": \"had not\", \"hasn't\": \"has not\", \"haven't\": \"have not\", \"he'd\": \"he would\",\"he'll\": \"he will\", \"he's\": \"he is\", \"how'd\": \"how did\", \"how'd'y\": \"how do you\", \"how'll\": \"how will\", \"how's\": \"how is\", \"I'd\": \"I would\", \"I'd've\": \"I would have\", \"I'll\": \"I will\", \"I'll've\": \"I will have\",\"I'm\": \"I am\", \"I've\": \"I have\", \"i'd\": \"i would\", \"i'd've\": \"i would have\", \"i'll\": \"i will\",  \"i'll've\": \"i will have\",\"i'm\": \"i am\", \"i've\": \"i have\", \"isn't\": \"is not\", \"it'd\": \"it would\", \"it'd've\": \"it would have\", \"it'll\": \"it will\", \"it'll've\": \"it will have\",\"it's\": \"it is\", \"let's\": \"let us\", \"ma'am\": \"madam\", \"mayn't\": \"may not\", \"might've\": \"might have\",\"mightn't\": \"might not\",\"mightn't've\": \"might not have\", \"must've\": \"must have\", \"mustn't\": \"must not\", \"mustn't've\": \"must not have\", \"needn't\": \"need not\", \"needn't've\": \"need not have\",\"o'clock\": \"of the clock\", \"oughtn't\": \"ought not\", \"oughtn't've\": \"ought not have\", \"shan't\": \"shall not\", \"sha'n't\": \"shall not\", \"shan't've\": \"shall not have\", \"she'd\": \"she would\", \"she'd've\": \"she would have\", \"she'll\": \"she will\", \"she'll've\": \"she will have\", \"she's\": \"she is\", \"should've\": \"should have\", \"shouldn't\": \"should not\", \"shouldn't've\": \"should not have\", \"so've\": \"so have\",\"so's\": \"so as\", \"this's\": \"this is\",\"that'd\": \"that would\", \"that'd've\": \"that would have\", \"that's\": \"that is\", \"there'd\": \"there would\", \"there'd've\": \"there would have\", \"there's\": \"there is\", \"here's\": \"here is\",\"they'd\": \"they would\", \"they'd've\": \"they would have\", \"they'll\": \"they will\", \"they'll've\": \"they will have\", \"they're\": \"they are\", \"they've\": \"they have\", \"to've\": \"to have\", \"wasn't\": \"was not\", \"we'd\": \"we would\", \"we'd've\": \"we would have\", \"we'll\": \"we will\", \"we'll've\": \"we will have\", \"we're\": \"we are\", \"we've\": \"we have\", \"weren't\": \"were not\", \"what'll\": \"what will\", \"what'll've\": \"what will have\", \"what're\": \"what are\", \"what's\": \"what is\", \"what've\": \"what have\", \"when's\": \"when is\", \"when've\": \"when have\", \"where'd\": \"where did\", \"where's\": \"where is\", \"where've\": \"where have\", \"who'll\": \"who will\", \"who'll've\": \"who will have\", \"who's\": \"who is\", \"who've\": \"who have\", \"why's\": \"why is\", \"why've\": \"why have\", \"will've\": \"will have\", \"won't\": \"will not\", \"won't've\": \"will not have\", \"would've\": \"would have\", \"wouldn't\": \"would not\", \"wouldn't've\": \"would not have\", \"y'all\": \"you all\", \"y'all'd\": \"you all would\",\"y'all'd've\": \"you all would have\",\"y'all're\": \"you all are\",\"y'all've\": \"you all have\", \"you'd\": \"you would\", \"you'd've\": \"you would have\", \"you'll\": \"you will\", \"you'll've\": \"you will have\", \"you're\": \"you are\", \"you've\": \"you have\"}\n",
        "  text = text.lower()\n",
        "  text = re.sub(\" +\", \" \", text)\n",
        "  text = re.sub(\"\\n+\", \" \", text)\n",
        "  text = \" \".join([contraction_mapping[w] if w in contraction_mapping else w for w in text.split()])\n",
        "  return text\n",
        "\n",
        "  # more preprocessing\n",
        "  text = re.sub(\"[^a-zA-Z0-9\\n]\", \" \", text)\n",
        "  text = re.sub(r'\\([^)]*\\)', '', text)\n",
        "  text = re.sub('\"','', text)\n",
        "  text = re.sub(r\"'s\\b\",\"\",text)\n",
        "  return text "
      ],
      "execution_count": 9,
      "outputs": []
    },
    {
      "cell_type": "code",
      "metadata": {
        "id": "8AelLqhPvJwz"
      },
      "source": [
        "# df[\"text\"] = df[\"text\"].apply(lambda x: formatArticleHeader(x))\n",
        "df[\"text\"] = df[\"text\"].apply(lambda x: cleanText(x))\n",
        "df[\"headlines\"] = df[\"headlines\"].apply(lambda x: \"starttoken \" + cleanText(x) + \" endtoken\")"
      ],
      "execution_count": 10,
      "outputs": []
    },
    {
      "cell_type": "code",
      "metadata": {
        "colab": {
          "base_uri": "https://localhost:8080/",
          "height": 206
        },
        "id": "L3YFKx6ovhsa",
        "outputId": "535de476-a059-4efb-ee25-434c10009ce5"
      },
      "source": [
        "df.head()"
      ],
      "execution_count": 11,
      "outputs": [
        {
          "output_type": "execute_result",
          "data": {
            "text/html": [
              "<div>\n",
              "<style scoped>\n",
              "    .dataframe tbody tr th:only-of-type {\n",
              "        vertical-align: middle;\n",
              "    }\n",
              "\n",
              "    .dataframe tbody tr th {\n",
              "        vertical-align: top;\n",
              "    }\n",
              "\n",
              "    .dataframe thead th {\n",
              "        text-align: right;\n",
              "    }\n",
              "</style>\n",
              "<table border=\"1\" class=\"dataframe\">\n",
              "  <thead>\n",
              "    <tr style=\"text-align: right;\">\n",
              "      <th></th>\n",
              "      <th>headlines</th>\n",
              "      <th>text</th>\n",
              "    </tr>\n",
              "  </thead>\n",
              "  <tbody>\n",
              "    <tr>\n",
              "      <th>0</th>\n",
              "      <td>starttoken upgrad learner switches to career i...</td>\n",
              "      <td>saurav kant, an alumnus of upgrad and iiit-b's...</td>\n",
              "    </tr>\n",
              "    <tr>\n",
              "      <th>1</th>\n",
              "      <td>starttoken delhi techie wins free food from sw...</td>\n",
              "      <td>kunal shah's credit card bill payment platform...</td>\n",
              "    </tr>\n",
              "    <tr>\n",
              "      <th>2</th>\n",
              "      <td>starttoken new zealand end rohit sharma-led in...</td>\n",
              "      <td>new zealand defeated india by 8 wickets in the...</td>\n",
              "    </tr>\n",
              "    <tr>\n",
              "      <th>3</th>\n",
              "      <td>starttoken aegon life iterm insurance plan hel...</td>\n",
              "      <td>with aegon life iterm insurance plan, customer...</td>\n",
              "    </tr>\n",
              "    <tr>\n",
              "      <th>4</th>\n",
              "      <td>starttoken have known hirani for yrs, what if ...</td>\n",
              "      <td>speaking about the sexual harassment allegatio...</td>\n",
              "    </tr>\n",
              "  </tbody>\n",
              "</table>\n",
              "</div>"
            ],
            "text/plain": [
              "                                           headlines                                               text\n",
              "0  starttoken upgrad learner switches to career i...  saurav kant, an alumnus of upgrad and iiit-b's...\n",
              "1  starttoken delhi techie wins free food from sw...  kunal shah's credit card bill payment platform...\n",
              "2  starttoken new zealand end rohit sharma-led in...  new zealand defeated india by 8 wickets in the...\n",
              "3  starttoken aegon life iterm insurance plan hel...  with aegon life iterm insurance plan, customer...\n",
              "4  starttoken have known hirani for yrs, what if ...  speaking about the sexual harassment allegatio..."
            ]
          },
          "metadata": {
            "tags": []
          },
          "execution_count": 11
        }
      ]
    },
    {
      "cell_type": "markdown",
      "metadata": {
        "id": "AZPW_R7alV-g"
      },
      "source": [
        "# Training fastText"
      ]
    },
    {
      "cell_type": "code",
      "metadata": {
        "id": "03-Myx1Iha3M"
      },
      "source": [
        "X_words = list(map(word_tokenize, df[\"text\"].values))\n",
        "y_words = list(map(word_tokenize, df[\"headlines\"].values))"
      ],
      "execution_count": 12,
      "outputs": []
    },
    {
      "cell_type": "code",
      "metadata": {
        "id": "G25tmg6slY0m",
        "colab": {
          "base_uri": "https://localhost:8080/"
        },
        "outputId": "cc732afc-e347-49e3-ac57-2f473fd4c06d"
      },
      "source": [
        "ft_model_X = FastText(min_count=1)\n",
        "ft_model_X.build_vocab(sentences=X_words)\n",
        "ft_model_X.train(sentences=X_words, total_examples=ft_model_X.corpus_count, epochs=10)\n",
        "\n",
        "ft_model_y = FastText(min_count=1)\n",
        "ft_model_y.build_vocab(sentences=y_words)\n",
        "ft_model_y.train(sentences=y_words, total_examples=ft_model_y.corpus_count, epochs=10)"
      ],
      "execution_count": 14,
      "outputs": [
        {
          "output_type": "stream",
          "text": [
            "2021-03-01 18:06:58,776 : INFO : collecting all words and their counts\n",
            "2021-03-01 18:06:58,778 : INFO : PROGRESS: at sentence #0, processed 0 words, keeping 0 word types\n",
            "2021-03-01 18:06:58,904 : INFO : PROGRESS: at sentence #10000, processed 680649 words, keeping 34890 word types\n",
            "2021-03-01 18:06:59,034 : INFO : PROGRESS: at sentence #20000, processed 1356925 words, keeping 50069 word types\n",
            "2021-03-01 18:06:59,162 : INFO : PROGRESS: at sentence #30000, processed 2028754 words, keeping 61457 word types\n",
            "2021-03-01 18:06:59,285 : INFO : PROGRESS: at sentence #40000, processed 2698468 words, keeping 71022 word types\n",
            "2021-03-01 18:06:59,411 : INFO : PROGRESS: at sentence #50000, processed 3363075 words, keeping 80020 word types\n",
            "2021-03-01 18:06:59,548 : INFO : PROGRESS: at sentence #60000, processed 4025161 words, keeping 88497 word types\n",
            "2021-03-01 18:06:59,688 : INFO : PROGRESS: at sentence #70000, processed 4688746 words, keeping 96676 word types\n",
            "2021-03-01 18:06:59,821 : INFO : PROGRESS: at sentence #80000, processed 5353414 words, keeping 104372 word types\n",
            "2021-03-01 18:06:59,955 : INFO : PROGRESS: at sentence #90000, processed 6019775 words, keeping 112255 word types\n",
            "2021-03-01 18:07:00,072 : INFO : collected 118414 word types from a corpus of 6578923 raw words and 98401 sentences\n",
            "2021-03-01 18:07:00,073 : INFO : Loading a fresh vocabulary\n",
            "2021-03-01 18:07:00,605 : INFO : effective_min_count=1 retains 118414 unique words (100% of original 118414, drops 0)\n",
            "2021-03-01 18:07:00,606 : INFO : effective_min_count=1 leaves 6578923 word corpus (100% of original 6578923, drops 0)\n",
            "2021-03-01 18:07:01,026 : INFO : deleting the raw counts dictionary of 118414 items\n",
            "2021-03-01 18:07:01,030 : INFO : sample=0.001 downsamples 40 most-common words\n",
            "2021-03-01 18:07:01,031 : INFO : downsampling leaves estimated 4958178 word corpus (75.4% of prior 6578923)\n",
            "2021-03-01 18:07:03,319 : INFO : estimated required memory for 118414 words, 543860 buckets and 100 dimensions: 401768240 bytes\n",
            "2021-03-01 18:07:03,345 : INFO : resetting layer weights\n",
            "2021-03-01 18:07:31,550 : INFO : Total number of ngrams is 543860\n",
            "2021-03-01 18:07:35,909 : INFO : training model with 3 workers on 118414 vocabulary and 100 features, using sg=0 hs=0 sample=0.001 negative=5 window=5\n",
            "2021-03-01 18:07:36,956 : INFO : EPOCH 1 - PROGRESS: at 2.81% examples, 137402 words/s, in_qsize 4, out_qsize 1\n",
            "2021-03-01 18:07:37,974 : INFO : EPOCH 1 - PROGRESS: at 5.94% examples, 146218 words/s, in_qsize 5, out_qsize 0\n",
            "2021-03-01 18:07:39,027 : INFO : EPOCH 1 - PROGRESS: at 8.92% examples, 145014 words/s, in_qsize 4, out_qsize 1\n",
            "2021-03-01 18:07:40,109 : INFO : EPOCH 1 - PROGRESS: at 12.21% examples, 146938 words/s, in_qsize 5, out_qsize 0\n",
            "2021-03-01 18:07:41,145 : INFO : EPOCH 1 - PROGRESS: at 15.36% examples, 148035 words/s, in_qsize 5, out_qsize 0\n",
            "2021-03-01 18:07:42,159 : INFO : EPOCH 1 - PROGRESS: at 18.35% examples, 148076 words/s, in_qsize 5, out_qsize 0\n",
            "2021-03-01 18:07:43,193 : INFO : EPOCH 1 - PROGRESS: at 21.52% examples, 148708 words/s, in_qsize 5, out_qsize 0\n",
            "2021-03-01 18:07:44,243 : INFO : EPOCH 1 - PROGRESS: at 24.67% examples, 148903 words/s, in_qsize 5, out_qsize 0\n",
            "2021-03-01 18:07:45,292 : INFO : EPOCH 1 - PROGRESS: at 27.69% examples, 148251 words/s, in_qsize 5, out_qsize 0\n",
            "2021-03-01 18:07:46,316 : INFO : EPOCH 1 - PROGRESS: at 30.86% examples, 148847 words/s, in_qsize 5, out_qsize 0\n",
            "2021-03-01 18:07:47,340 : INFO : EPOCH 1 - PROGRESS: at 33.87% examples, 148655 words/s, in_qsize 5, out_qsize 0\n",
            "2021-03-01 18:07:48,355 : INFO : EPOCH 1 - PROGRESS: at 36.90% examples, 148607 words/s, in_qsize 4, out_qsize 1\n",
            "2021-03-01 18:07:49,397 : INFO : EPOCH 1 - PROGRESS: at 39.93% examples, 148258 words/s, in_qsize 6, out_qsize 0\n",
            "2021-03-01 18:07:50,492 : INFO : EPOCH 1 - PROGRESS: at 43.12% examples, 147944 words/s, in_qsize 5, out_qsize 0\n",
            "2021-03-01 18:07:51,550 : INFO : EPOCH 1 - PROGRESS: at 46.32% examples, 148034 words/s, in_qsize 5, out_qsize 0\n",
            "2021-03-01 18:07:52,635 : INFO : EPOCH 1 - PROGRESS: at 49.52% examples, 147873 words/s, in_qsize 5, out_qsize 0\n",
            "2021-03-01 18:07:53,635 : INFO : EPOCH 1 - PROGRESS: at 52.58% examples, 147980 words/s, in_qsize 5, out_qsize 0\n",
            "2021-03-01 18:07:54,678 : INFO : EPOCH 1 - PROGRESS: at 55.65% examples, 147771 words/s, in_qsize 5, out_qsize 0\n",
            "2021-03-01 18:07:55,698 : INFO : EPOCH 1 - PROGRESS: at 58.56% examples, 147367 words/s, in_qsize 5, out_qsize 0\n",
            "2021-03-01 18:07:56,731 : INFO : EPOCH 1 - PROGRESS: at 61.76% examples, 147629 words/s, in_qsize 5, out_qsize 0\n",
            "2021-03-01 18:07:57,796 : INFO : EPOCH 1 - PROGRESS: at 64.82% examples, 147305 words/s, in_qsize 5, out_qsize 0\n",
            "2021-03-01 18:07:58,843 : INFO : EPOCH 1 - PROGRESS: at 67.87% examples, 147132 words/s, in_qsize 5, out_qsize 0\n",
            "2021-03-01 18:07:59,849 : INFO : EPOCH 1 - PROGRESS: at 70.76% examples, 146909 words/s, in_qsize 5, out_qsize 0\n",
            "2021-03-01 18:08:00,946 : INFO : EPOCH 1 - PROGRESS: at 73.97% examples, 146785 words/s, in_qsize 5, out_qsize 0\n",
            "2021-03-01 18:08:01,996 : INFO : EPOCH 1 - PROGRESS: at 77.02% examples, 146639 words/s, in_qsize 4, out_qsize 1\n",
            "2021-03-01 18:08:03,021 : INFO : EPOCH 1 - PROGRESS: at 80.21% examples, 146924 words/s, in_qsize 5, out_qsize 0\n",
            "2021-03-01 18:08:04,048 : INFO : EPOCH 1 - PROGRESS: at 83.26% examples, 146900 words/s, in_qsize 5, out_qsize 0\n",
            "2021-03-01 18:08:05,078 : INFO : EPOCH 1 - PROGRESS: at 86.31% examples, 146869 words/s, in_qsize 5, out_qsize 0\n",
            "2021-03-01 18:08:06,157 : INFO : EPOCH 1 - PROGRESS: at 89.34% examples, 146591 words/s, in_qsize 4, out_qsize 1\n",
            "2021-03-01 18:08:07,192 : INFO : EPOCH 1 - PROGRESS: at 92.54% examples, 146774 words/s, in_qsize 5, out_qsize 0\n",
            "2021-03-01 18:08:08,223 : INFO : EPOCH 1 - PROGRESS: at 95.43% examples, 146505 words/s, in_qsize 4, out_qsize 1\n",
            "2021-03-01 18:08:09,273 : INFO : EPOCH 1 - PROGRESS: at 98.63% examples, 146617 words/s, in_qsize 5, out_qsize 0\n",
            "2021-03-01 18:08:09,649 : INFO : worker thread finished; awaiting finish of 2 more threads\n",
            "2021-03-01 18:08:09,660 : INFO : worker thread finished; awaiting finish of 1 more threads\n",
            "2021-03-01 18:08:09,678 : INFO : worker thread finished; awaiting finish of 0 more threads\n",
            "2021-03-01 18:08:09,680 : INFO : EPOCH - 1 : training on 6578923 raw words (4958756 effective words) took 33.8s, 146861 effective words/s\n",
            "2021-03-01 18:08:10,740 : INFO : EPOCH 2 - PROGRESS: at 2.81% examples, 135467 words/s, in_qsize 4, out_qsize 1\n",
            "2021-03-01 18:08:11,784 : INFO : EPOCH 2 - PROGRESS: at 5.94% examples, 143362 words/s, in_qsize 4, out_qsize 1\n",
            "2021-03-01 18:08:12,815 : INFO : EPOCH 2 - PROGRESS: at 9.07% examples, 146536 words/s, in_qsize 5, out_qsize 0\n",
            "2021-03-01 18:08:13,911 : INFO : EPOCH 2 - PROGRESS: at 12.21% examples, 145740 words/s, in_qsize 5, out_qsize 0\n",
            "2021-03-01 18:08:15,004 : INFO : EPOCH 2 - PROGRESS: at 15.51% examples, 146901 words/s, in_qsize 5, out_qsize 0\n",
            "2021-03-01 18:08:16,008 : INFO : EPOCH 2 - PROGRESS: at 18.65% examples, 148511 words/s, in_qsize 5, out_qsize 0\n",
            "2021-03-01 18:08:17,035 : INFO : EPOCH 2 - PROGRESS: at 21.67% examples, 148210 words/s, in_qsize 5, out_qsize 0\n",
            "2021-03-01 18:08:18,098 : INFO : EPOCH 2 - PROGRESS: at 24.83% examples, 148201 words/s, in_qsize 5, out_qsize 0\n",
            "2021-03-01 18:08:19,165 : INFO : EPOCH 2 - PROGRESS: at 27.99% examples, 148150 words/s, in_qsize 5, out_qsize 1\n",
            "2021-03-01 18:08:20,168 : INFO : EPOCH 2 - PROGRESS: at 31.01% examples, 148334 words/s, in_qsize 5, out_qsize 0\n",
            "2021-03-01 18:08:21,187 : INFO : EPOCH 2 - PROGRESS: at 34.02% examples, 148274 words/s, in_qsize 5, out_qsize 0\n",
            "2021-03-01 18:08:22,194 : INFO : EPOCH 2 - PROGRESS: at 36.90% examples, 147724 words/s, in_qsize 4, out_qsize 1\n",
            "2021-03-01 18:08:23,198 : INFO : EPOCH 2 - PROGRESS: at 40.08% examples, 148416 words/s, in_qsize 5, out_qsize 0\n",
            "2021-03-01 18:08:24,214 : INFO : EPOCH 2 - PROGRESS: at 43.12% examples, 148368 words/s, in_qsize 5, out_qsize 0\n",
            "2021-03-01 18:08:25,251 : INFO : EPOCH 2 - PROGRESS: at 46.16% examples, 148147 words/s, in_qsize 5, out_qsize 0\n",
            "2021-03-01 18:08:26,296 : INFO : EPOCH 2 - PROGRESS: at 49.21% examples, 147875 words/s, in_qsize 5, out_qsize 0\n",
            "2021-03-01 18:08:27,345 : INFO : EPOCH 2 - PROGRESS: at 52.43% examples, 148007 words/s, in_qsize 5, out_qsize 0\n",
            "2021-03-01 18:08:28,383 : INFO : EPOCH 2 - PROGRESS: at 55.65% examples, 148235 words/s, in_qsize 5, out_qsize 0\n",
            "2021-03-01 18:08:29,403 : INFO : EPOCH 2 - PROGRESS: at 58.56% examples, 147805 words/s, in_qsize 5, out_qsize 0\n",
            "2021-03-01 18:08:30,440 : INFO : EPOCH 2 - PROGRESS: at 61.61% examples, 147658 words/s, in_qsize 5, out_qsize 0\n",
            "2021-03-01 18:08:31,502 : INFO : EPOCH 2 - PROGRESS: at 64.82% examples, 147687 words/s, in_qsize 5, out_qsize 0\n",
            "2021-03-01 18:08:32,576 : INFO : EPOCH 2 - PROGRESS: at 68.03% examples, 147649 words/s, in_qsize 5, out_qsize 0\n",
            "2021-03-01 18:08:33,592 : INFO : EPOCH 2 - PROGRESS: at 70.91% examples, 147340 words/s, in_qsize 5, out_qsize 0\n",
            "2021-03-01 18:08:34,596 : INFO : EPOCH 2 - PROGRESS: at 73.97% examples, 147435 words/s, in_qsize 5, out_qsize 0\n",
            "2021-03-01 18:08:35,649 : INFO : EPOCH 2 - PROGRESS: at 77.17% examples, 147537 words/s, in_qsize 5, out_qsize 0\n",
            "2021-03-01 18:08:36,691 : INFO : EPOCH 2 - PROGRESS: at 80.21% examples, 147412 words/s, in_qsize 5, out_qsize 0\n",
            "2021-03-01 18:08:37,704 : INFO : EPOCH 2 - PROGRESS: at 83.11% examples, 147182 words/s, in_qsize 5, out_qsize 0\n",
            "2021-03-01 18:08:38,725 : INFO : EPOCH 2 - PROGRESS: at 86.16% examples, 147186 words/s, in_qsize 5, out_qsize 0\n",
            "2021-03-01 18:08:39,804 : INFO : EPOCH 2 - PROGRESS: at 89.34% examples, 147148 words/s, in_qsize 5, out_qsize 0\n",
            "2021-03-01 18:08:40,814 : INFO : EPOCH 2 - PROGRESS: at 92.23% examples, 146947 words/s, in_qsize 4, out_qsize 1\n",
            "2021-03-01 18:08:41,866 : INFO : EPOCH 2 - PROGRESS: at 95.43% examples, 147050 words/s, in_qsize 5, out_qsize 0\n",
            "2021-03-01 18:08:42,926 : INFO : EPOCH 2 - PROGRESS: at 98.62% examples, 147109 words/s, in_qsize 5, out_qsize 0\n",
            "2021-03-01 18:08:43,274 : INFO : worker thread finished; awaiting finish of 2 more threads\n",
            "2021-03-01 18:08:43,309 : INFO : worker thread finished; awaiting finish of 1 more threads\n",
            "2021-03-01 18:08:43,336 : INFO : worker thread finished; awaiting finish of 0 more threads\n",
            "2021-03-01 18:08:43,338 : INFO : EPOCH - 2 : training on 6578923 raw words (4957669 effective words) took 33.7s, 147318 effective words/s\n",
            "2021-03-01 18:08:44,399 : INFO : EPOCH 3 - PROGRESS: at 2.96% examples, 142769 words/s, in_qsize 5, out_qsize 0\n",
            "2021-03-01 18:08:45,455 : INFO : EPOCH 3 - PROGRESS: at 6.09% examples, 146203 words/s, in_qsize 4, out_qsize 1\n",
            "2021-03-01 18:08:46,458 : INFO : EPOCH 3 - PROGRESS: at 9.07% examples, 147364 words/s, in_qsize 5, out_qsize 0\n",
            "2021-03-01 18:08:47,533 : INFO : EPOCH 3 - PROGRESS: at 12.21% examples, 147158 words/s, in_qsize 4, out_qsize 1\n",
            "2021-03-01 18:08:48,567 : INFO : EPOCH 3 - PROGRESS: at 15.36% examples, 148184 words/s, in_qsize 5, out_qsize 0\n",
            "2021-03-01 18:08:49,596 : INFO : EPOCH 3 - PROGRESS: at 18.50% examples, 149042 words/s, in_qsize 5, out_qsize 0\n",
            "2021-03-01 18:08:50,615 : INFO : EPOCH 3 - PROGRESS: at 21.52% examples, 148806 words/s, in_qsize 5, out_qsize 0\n",
            "2021-03-01 18:08:51,641 : INFO : EPOCH 3 - PROGRESS: at 24.52% examples, 148509 words/s, in_qsize 5, out_qsize 0\n",
            "2021-03-01 18:08:52,676 : INFO : EPOCH 3 - PROGRESS: at 27.69% examples, 148953 words/s, in_qsize 5, out_qsize 0\n",
            "2021-03-01 18:08:53,715 : INFO : EPOCH 3 - PROGRESS: at 30.70% examples, 148519 words/s, in_qsize 5, out_qsize 0\n",
            "2021-03-01 18:08:54,729 : INFO : EPOCH 3 - PROGRESS: at 33.72% examples, 148516 words/s, in_qsize 4, out_qsize 1\n",
            "2021-03-01 18:08:55,777 : INFO : EPOCH 3 - PROGRESS: at 36.90% examples, 148679 words/s, in_qsize 5, out_qsize 0\n",
            "2021-03-01 18:08:56,779 : INFO : EPOCH 3 - PROGRESS: at 39.93% examples, 148774 words/s, in_qsize 5, out_qsize 0\n",
            "2021-03-01 18:08:57,789 : INFO : EPOCH 3 - PROGRESS: at 42.97% examples, 148764 words/s, in_qsize 5, out_qsize 0\n",
            "2021-03-01 18:08:58,867 : INFO : EPOCH 3 - PROGRESS: at 46.01% examples, 148130 words/s, in_qsize 3, out_qsize 2\n",
            "2021-03-01 18:08:59,930 : INFO : EPOCH 3 - PROGRESS: at 49.36% examples, 148602 words/s, in_qsize 5, out_qsize 0\n",
            "2021-03-01 18:09:00,990 : INFO : EPOCH 3 - PROGRESS: at 52.43% examples, 148174 words/s, in_qsize 5, out_qsize 0\n",
            "2021-03-01 18:09:02,057 : INFO : EPOCH 3 - PROGRESS: at 55.65% examples, 148162 words/s, in_qsize 5, out_qsize 0\n",
            "2021-03-01 18:09:03,083 : INFO : EPOCH 3 - PROGRESS: at 58.71% examples, 148074 words/s, in_qsize 5, out_qsize 0\n",
            "2021-03-01 18:09:04,134 : INFO : EPOCH 3 - PROGRESS: at 61.92% examples, 148160 words/s, in_qsize 5, out_qsize 0\n",
            "2021-03-01 18:09:05,142 : INFO : EPOCH 3 - PROGRESS: at 64.82% examples, 147850 words/s, in_qsize 5, out_qsize 0\n",
            "2021-03-01 18:09:06,195 : INFO : EPOCH 3 - PROGRESS: at 67.87% examples, 147611 words/s, in_qsize 5, out_qsize 0\n",
            "2021-03-01 18:09:07,205 : INFO : EPOCH 3 - PROGRESS: at 70.91% examples, 147657 words/s, in_qsize 5, out_qsize 0\n",
            "2021-03-01 18:09:08,238 : INFO : EPOCH 3 - PROGRESS: at 73.97% examples, 147564 words/s, in_qsize 4, out_qsize 1\n",
            "2021-03-01 18:09:09,343 : INFO : EPOCH 3 - PROGRESS: at 77.17% examples, 147370 words/s, in_qsize 4, out_qsize 1\n",
            "2021-03-01 18:09:10,365 : INFO : EPOCH 3 - PROGRESS: at 80.21% examples, 147364 words/s, in_qsize 5, out_qsize 0\n",
            "2021-03-01 18:09:11,407 : INFO : EPOCH 3 - PROGRESS: at 83.26% examples, 147247 words/s, in_qsize 5, out_qsize 0\n",
            "2021-03-01 18:09:12,433 : INFO : EPOCH 3 - PROGRESS: at 86.31% examples, 147222 words/s, in_qsize 5, out_qsize 0\n",
            "2021-03-01 18:09:13,498 : INFO : EPOCH 3 - PROGRESS: at 89.49% examples, 147262 words/s, in_qsize 5, out_qsize 0\n",
            "2021-03-01 18:09:14,582 : INFO : EPOCH 3 - PROGRESS: at 92.69% examples, 147184 words/s, in_qsize 5, out_qsize 0\n",
            "2021-03-01 18:09:15,604 : INFO : EPOCH 3 - PROGRESS: at 95.73% examples, 147173 words/s, in_qsize 5, out_qsize 0\n",
            "2021-03-01 18:09:16,659 : INFO : EPOCH 3 - PROGRESS: at 98.77% examples, 147021 words/s, in_qsize 5, out_qsize 0\n",
            "2021-03-01 18:09:16,938 : INFO : worker thread finished; awaiting finish of 2 more threads\n",
            "2021-03-01 18:09:16,986 : INFO : worker thread finished; awaiting finish of 1 more threads\n",
            "2021-03-01 18:09:16,996 : INFO : worker thread finished; awaiting finish of 0 more threads\n",
            "2021-03-01 18:09:16,997 : INFO : EPOCH - 3 : training on 6578923 raw words (4958139 effective words) took 33.7s, 147334 effective words/s\n",
            "2021-03-01 18:09:18,013 : INFO : EPOCH 4 - PROGRESS: at 2.66% examples, 134681 words/s, in_qsize 4, out_qsize 1\n",
            "2021-03-01 18:09:19,039 : INFO : EPOCH 4 - PROGRESS: at 5.79% examples, 144449 words/s, in_qsize 5, out_qsize 0\n",
            "2021-03-01 18:09:20,048 : INFO : EPOCH 4 - PROGRESS: at 8.78% examples, 145919 words/s, in_qsize 5, out_qsize 0\n",
            "2021-03-01 18:09:21,050 : INFO : EPOCH 4 - PROGRESS: at 11.76% examples, 146914 words/s, in_qsize 4, out_qsize 1\n",
            "2021-03-01 18:09:22,100 : INFO : EPOCH 4 - PROGRESS: at 15.06% examples, 149008 words/s, in_qsize 5, out_qsize 0\n",
            "2021-03-01 18:09:23,145 : INFO : EPOCH 4 - PROGRESS: at 18.20% examples, 149344 words/s, in_qsize 5, out_qsize 0\n",
            "2021-03-01 18:09:24,241 : INFO : EPOCH 4 - PROGRESS: at 21.37% examples, 148494 words/s, in_qsize 4, out_qsize 1\n",
            "2021-03-01 18:09:25,242 : INFO : EPOCH 4 - PROGRESS: at 24.52% examples, 149580 words/s, in_qsize 5, out_qsize 0\n",
            "2021-03-01 18:09:26,263 : INFO : EPOCH 4 - PROGRESS: at 27.54% examples, 149302 words/s, in_qsize 5, out_qsize 0\n",
            "2021-03-01 18:09:27,281 : INFO : EPOCH 4 - PROGRESS: at 30.56% examples, 149164 words/s, in_qsize 5, out_qsize 0\n",
            "2021-03-01 18:09:28,336 : INFO : EPOCH 4 - PROGRESS: at 33.72% examples, 149205 words/s, in_qsize 5, out_qsize 0\n",
            "2021-03-01 18:09:29,370 : INFO : EPOCH 4 - PROGRESS: at 36.90% examples, 149489 words/s, in_qsize 5, out_qsize 0\n",
            "2021-03-01 18:09:30,412 : INFO : EPOCH 4 - PROGRESS: at 40.08% examples, 149649 words/s, in_qsize 5, out_qsize 0\n",
            "2021-03-01 18:09:31,470 : INFO : EPOCH 4 - PROGRESS: at 43.12% examples, 149073 words/s, in_qsize 5, out_qsize 0\n",
            "2021-03-01 18:09:32,480 : INFO : EPOCH 4 - PROGRESS: at 46.01% examples, 148578 words/s, in_qsize 5, out_qsize 0\n",
            "2021-03-01 18:09:33,510 : INFO : EPOCH 4 - PROGRESS: at 48.91% examples, 147946 words/s, in_qsize 5, out_qsize 0\n",
            "2021-03-01 18:09:34,524 : INFO : EPOCH 4 - PROGRESS: at 51.81% examples, 147517 words/s, in_qsize 5, out_qsize 0\n",
            "2021-03-01 18:09:35,557 : INFO : EPOCH 4 - PROGRESS: at 54.73% examples, 146998 words/s, in_qsize 5, out_qsize 0\n",
            "2021-03-01 18:09:36,581 : INFO : EPOCH 4 - PROGRESS: at 57.79% examples, 146992 words/s, in_qsize 5, out_qsize 0\n",
            "2021-03-01 18:09:37,600 : INFO : EPOCH 4 - PROGRESS: at 60.69% examples, 146646 words/s, in_qsize 5, out_qsize 0\n",
            "2021-03-01 18:09:38,701 : INFO : EPOCH 4 - PROGRESS: at 63.90% examples, 146465 words/s, in_qsize 5, out_qsize 0\n",
            "2021-03-01 18:09:39,743 : INFO : EPOCH 4 - PROGRESS: at 66.96% examples, 146361 words/s, in_qsize 5, out_qsize 0\n",
            "2021-03-01 18:09:40,758 : INFO : EPOCH 4 - PROGRESS: at 70.00% examples, 146423 words/s, in_qsize 5, out_qsize 0\n",
            "2021-03-01 18:09:41,833 : INFO : EPOCH 4 - PROGRESS: at 73.05% examples, 146137 words/s, in_qsize 4, out_qsize 1\n",
            "2021-03-01 18:09:42,890 : INFO : EPOCH 4 - PROGRESS: at 76.26% examples, 146280 words/s, in_qsize 5, out_qsize 0\n",
            "2021-03-01 18:09:43,934 : INFO : EPOCH 4 - PROGRESS: at 79.30% examples, 146177 words/s, in_qsize 5, out_qsize 0\n",
            "2021-03-01 18:09:45,013 : INFO : EPOCH 4 - PROGRESS: at 82.50% examples, 146187 words/s, in_qsize 5, out_qsize 0\n",
            "2021-03-01 18:09:46,030 : INFO : EPOCH 4 - PROGRESS: at 85.40% examples, 145998 words/s, in_qsize 5, out_qsize 0\n",
            "2021-03-01 18:09:47,075 : INFO : EPOCH 4 - PROGRESS: at 88.59% examples, 146169 words/s, in_qsize 5, out_qsize 0\n",
            "2021-03-01 18:09:48,104 : INFO : EPOCH 4 - PROGRESS: at 91.62% examples, 146153 words/s, in_qsize 5, out_qsize 0\n",
            "2021-03-01 18:09:49,121 : INFO : EPOCH 4 - PROGRESS: at 94.67% examples, 146202 words/s, in_qsize 5, out_qsize 0\n",
            "2021-03-01 18:09:50,135 : INFO : EPOCH 4 - PROGRESS: at 97.56% examples, 146035 words/s, in_qsize 5, out_qsize 0\n",
            "2021-03-01 18:09:50,806 : INFO : worker thread finished; awaiting finish of 2 more threads\n",
            "2021-03-01 18:09:50,818 : INFO : worker thread finished; awaiting finish of 1 more threads\n",
            "2021-03-01 18:09:50,853 : INFO : worker thread finished; awaiting finish of 0 more threads\n",
            "2021-03-01 18:09:50,855 : INFO : EPOCH - 4 : training on 6578923 raw words (4958210 effective words) took 33.8s, 146484 effective words/s\n",
            "2021-03-01 18:09:51,917 : INFO : EPOCH 5 - PROGRESS: at 2.96% examples, 143695 words/s, in_qsize 5, out_qsize 0\n",
            "2021-03-01 18:09:52,937 : INFO : EPOCH 5 - PROGRESS: at 5.94% examples, 145532 words/s, in_qsize 4, out_qsize 1\n",
            "2021-03-01 18:09:53,969 : INFO : EPOCH 5 - PROGRESS: at 9.07% examples, 147994 words/s, in_qsize 5, out_qsize 0\n",
            "2021-03-01 18:09:55,005 : INFO : EPOCH 5 - PROGRESS: at 12.21% examples, 148994 words/s, in_qsize 5, out_qsize 0\n",
            "2021-03-01 18:09:56,028 : INFO : EPOCH 5 - PROGRESS: at 15.21% examples, 148561 words/s, in_qsize 5, out_qsize 0\n",
            "2021-03-01 18:09:57,071 : INFO : EPOCH 5 - PROGRESS: at 18.20% examples, 147839 words/s, in_qsize 5, out_qsize 0\n",
            "2021-03-01 18:09:58,103 : INFO : EPOCH 5 - PROGRESS: at 21.36% examples, 148517 words/s, in_qsize 5, out_qsize 0\n",
            "2021-03-01 18:09:59,188 : INFO : EPOCH 5 - PROGRESS: at 24.52% examples, 148121 words/s, in_qsize 5, out_qsize 0\n",
            "2021-03-01 18:10:00,241 : INFO : EPOCH 5 - PROGRESS: at 27.84% examples, 149082 words/s, in_qsize 5, out_qsize 0\n",
            "2021-03-01 18:10:01,323 : INFO : EPOCH 5 - PROGRESS: at 31.01% examples, 148804 words/s, in_qsize 5, out_qsize 0\n",
            "2021-03-01 18:10:02,366 : INFO : EPOCH 5 - PROGRESS: at 34.17% examples, 149009 words/s, in_qsize 5, out_qsize 0\n",
            "2021-03-01 18:10:03,408 : INFO : EPOCH 5 - PROGRESS: at 37.36% examples, 149199 words/s, in_qsize 5, out_qsize 0\n",
            "2021-03-01 18:10:04,489 : INFO : EPOCH 5 - PROGRESS: at 40.53% examples, 148946 words/s, in_qsize 4, out_qsize 1\n",
            "2021-03-01 18:10:05,489 : INFO : EPOCH 5 - PROGRESS: at 43.58% examples, 149037 words/s, in_qsize 5, out_qsize 0\n",
            "2021-03-01 18:10:06,543 : INFO : EPOCH 5 - PROGRESS: at 46.77% examples, 149064 words/s, in_qsize 5, out_qsize 0\n",
            "2021-03-01 18:10:07,545 : INFO : EPOCH 5 - PROGRESS: at 49.67% examples, 148690 words/s, in_qsize 5, out_qsize 0\n",
            "2021-03-01 18:10:08,555 : INFO : EPOCH 5 - PROGRESS: at 52.88% examples, 149099 words/s, in_qsize 5, out_qsize 0\n",
            "2021-03-01 18:10:09,624 : INFO : EPOCH 5 - PROGRESS: at 55.95% examples, 148619 words/s, in_qsize 4, out_qsize 1\n",
            "2021-03-01 18:10:10,667 : INFO : EPOCH 5 - PROGRESS: at 59.17% examples, 148746 words/s, in_qsize 5, out_qsize 0\n",
            "2021-03-01 18:10:11,694 : INFO : EPOCH 5 - PROGRESS: at 62.22% examples, 148615 words/s, in_qsize 5, out_qsize 0\n",
            "2021-03-01 18:10:12,728 : INFO : EPOCH 5 - PROGRESS: at 65.28% examples, 148457 words/s, in_qsize 5, out_qsize 0\n",
            "2021-03-01 18:10:13,767 : INFO : EPOCH 5 - PROGRESS: at 68.33% examples, 148271 words/s, in_qsize 5, out_qsize 0\n",
            "2021-03-01 18:10:14,839 : INFO : EPOCH 5 - PROGRESS: at 71.52% examples, 148214 words/s, in_qsize 5, out_qsize 0\n",
            "2021-03-01 18:10:15,882 : INFO : EPOCH 5 - PROGRESS: at 74.58% examples, 148060 words/s, in_qsize 5, out_qsize 0\n",
            "2021-03-01 18:10:16,953 : INFO : EPOCH 5 - PROGRESS: at 77.78% examples, 148026 words/s, in_qsize 6, out_qsize 0\n",
            "2021-03-01 18:10:18,029 : INFO : EPOCH 5 - PROGRESS: at 80.98% examples, 147974 words/s, in_qsize 5, out_qsize 0\n",
            "2021-03-01 18:10:19,131 : INFO : EPOCH 5 - PROGRESS: at 84.33% examples, 148071 words/s, in_qsize 5, out_qsize 0\n",
            "2021-03-01 18:10:20,200 : INFO : EPOCH 5 - PROGRESS: at 87.53% examples, 148060 words/s, in_qsize 5, out_qsize 0\n",
            "2021-03-01 18:10:21,220 : INFO : EPOCH 5 - PROGRESS: at 90.71% examples, 148277 words/s, in_qsize 5, out_qsize 0\n",
            "2021-03-01 18:10:22,258 : INFO : EPOCH 5 - PROGRESS: at 93.90% examples, 148392 words/s, in_qsize 5, out_qsize 0\n",
            "2021-03-01 18:10:23,346 : INFO : EPOCH 5 - PROGRESS: at 96.95% examples, 148051 words/s, in_qsize 4, out_qsize 1\n",
            "2021-03-01 18:10:24,287 : INFO : worker thread finished; awaiting finish of 2 more threads\n",
            "2021-03-01 18:10:24,294 : INFO : worker thread finished; awaiting finish of 1 more threads\n",
            "2021-03-01 18:10:24,314 : INFO : worker thread finished; awaiting finish of 0 more threads\n",
            "2021-03-01 18:10:24,315 : INFO : EPOCH - 5 : training on 6578923 raw words (4958608 effective words) took 33.4s, 148263 effective words/s\n",
            "2021-03-01 18:10:25,391 : INFO : EPOCH 6 - PROGRESS: at 2.96% examples, 140337 words/s, in_qsize 5, out_qsize 0\n",
            "2021-03-01 18:10:26,488 : INFO : EPOCH 6 - PROGRESS: at 6.24% examples, 145617 words/s, in_qsize 5, out_qsize 0\n",
            "2021-03-01 18:10:27,514 : INFO : EPOCH 6 - PROGRESS: at 9.37% examples, 148179 words/s, in_qsize 5, out_qsize 0\n",
            "2021-03-01 18:10:28,545 : INFO : EPOCH 6 - PROGRESS: at 12.51% examples, 149274 words/s, in_qsize 5, out_qsize 0\n",
            "2021-03-01 18:10:29,549 : INFO : EPOCH 6 - PROGRESS: at 15.36% examples, 147917 words/s, in_qsize 4, out_qsize 1\n",
            "2021-03-01 18:10:30,583 : INFO : EPOCH 6 - PROGRESS: at 18.50% examples, 148694 words/s, in_qsize 5, out_qsize 0\n",
            "2021-03-01 18:10:31,644 : INFO : EPOCH 6 - PROGRESS: at 21.67% examples, 148685 words/s, in_qsize 6, out_qsize 2\n",
            "2021-03-01 18:10:32,653 : INFO : EPOCH 6 - PROGRESS: at 24.82% examples, 149606 words/s, in_qsize 5, out_qsize 0\n",
            "2021-03-01 18:10:33,694 : INFO : EPOCH 6 - PROGRESS: at 27.99% examples, 149816 words/s, in_qsize 5, out_qsize 0\n",
            "2021-03-01 18:10:34,748 : INFO : EPOCH 6 - PROGRESS: at 31.16% examples, 149844 words/s, in_qsize 5, out_qsize 0\n",
            "2021-03-01 18:10:35,754 : INFO : EPOCH 6 - PROGRESS: at 34.02% examples, 149165 words/s, in_qsize 4, out_qsize 1\n",
            "2021-03-01 18:10:36,793 : INFO : EPOCH 6 - PROGRESS: at 37.21% examples, 149386 words/s, in_qsize 6, out_qsize 1\n",
            "2021-03-01 18:10:37,803 : INFO : EPOCH 6 - PROGRESS: at 40.38% examples, 149900 words/s, in_qsize 5, out_qsize 0\n",
            "2021-03-01 18:10:38,859 : INFO : EPOCH 6 - PROGRESS: at 43.43% examples, 149340 words/s, in_qsize 5, out_qsize 0\n",
            "2021-03-01 18:10:39,965 : INFO : EPOCH 6 - PROGRESS: at 46.77% examples, 149338 words/s, in_qsize 5, out_qsize 0\n",
            "2021-03-01 18:10:40,990 : INFO : EPOCH 6 - PROGRESS: at 49.82% examples, 149153 words/s, in_qsize 5, out_qsize 0\n",
            "2021-03-01 18:10:42,028 : INFO : EPOCH 6 - PROGRESS: at 52.88% examples, 148867 words/s, in_qsize 6, out_qsize 0\n",
            "2021-03-01 18:10:43,036 : INFO : EPOCH 6 - PROGRESS: at 55.95% examples, 148886 words/s, in_qsize 5, out_qsize 0\n",
            "2021-03-01 18:10:44,052 : INFO : EPOCH 6 - PROGRESS: at 58.86% examples, 148451 words/s, in_qsize 4, out_qsize 1\n",
            "2021-03-01 18:10:45,083 : INFO : EPOCH 6 - PROGRESS: at 62.07% examples, 148662 words/s, in_qsize 5, out_qsize 0\n",
            "2021-03-01 18:10:46,145 : INFO : EPOCH 6 - PROGRESS: at 65.12% examples, 148319 words/s, in_qsize 5, out_qsize 0\n",
            "2021-03-01 18:10:47,226 : INFO : EPOCH 6 - PROGRESS: at 68.33% examples, 148200 words/s, in_qsize 5, out_qsize 0\n",
            "2021-03-01 18:10:48,255 : INFO : EPOCH 6 - PROGRESS: at 71.37% examples, 148100 words/s, in_qsize 5, out_qsize 0\n",
            "2021-03-01 18:10:49,348 : INFO : EPOCH 6 - PROGRESS: at 74.58% examples, 147950 words/s, in_qsize 5, out_qsize 0\n",
            "2021-03-01 18:10:50,372 : INFO : EPOCH 6 - PROGRESS: at 77.47% examples, 147619 words/s, in_qsize 3, out_qsize 2\n",
            "2021-03-01 18:10:51,444 : INFO : EPOCH 6 - PROGRESS: at 80.67% examples, 147602 words/s, in_qsize 5, out_qsize 0\n",
            "2021-03-01 18:10:52,484 : INFO : EPOCH 6 - PROGRESS: at 83.72% examples, 147494 words/s, in_qsize 5, out_qsize 0\n",
            "2021-03-01 18:10:53,526 : INFO : EPOCH 6 - PROGRESS: at 86.77% examples, 147372 words/s, in_qsize 5, out_qsize 0\n",
            "2021-03-01 18:10:54,546 : INFO : EPOCH 6 - PROGRESS: at 89.65% examples, 147119 words/s, in_qsize 5, out_qsize 0\n",
            "2021-03-01 18:10:55,596 : INFO : EPOCH 6 - PROGRESS: at 92.84% examples, 147214 words/s, in_qsize 6, out_qsize 0\n",
            "2021-03-01 18:10:56,668 : INFO : EPOCH 6 - PROGRESS: at 95.88% examples, 146970 words/s, in_qsize 5, out_qsize 0\n",
            "2021-03-01 18:10:57,668 : INFO : EPOCH 6 - PROGRESS: at 98.93% examples, 147067 words/s, in_qsize 5, out_qsize 0\n",
            "2021-03-01 18:10:57,906 : INFO : worker thread finished; awaiting finish of 2 more threads\n",
            "2021-03-01 18:10:57,985 : INFO : worker thread finished; awaiting finish of 1 more threads\n",
            "2021-03-01 18:10:57,993 : INFO : worker thread finished; awaiting finish of 0 more threads\n",
            "2021-03-01 18:10:57,994 : INFO : EPOCH - 6 : training on 6578923 raw words (4957349 effective words) took 33.7s, 147213 effective words/s\n",
            "2021-03-01 18:10:59,013 : INFO : EPOCH 7 - PROGRESS: at 2.81% examples, 141201 words/s, in_qsize 5, out_qsize 0\n",
            "2021-03-01 18:11:00,025 : INFO : EPOCH 7 - PROGRESS: at 5.79% examples, 144965 words/s, in_qsize 5, out_qsize 0\n",
            "2021-03-01 18:11:01,039 : INFO : EPOCH 7 - PROGRESS: at 8.78% examples, 146002 words/s, in_qsize 5, out_qsize 0\n",
            "2021-03-01 18:11:02,045 : INFO : EPOCH 7 - PROGRESS: at 11.76% examples, 146724 words/s, in_qsize 5, out_qsize 0\n",
            "2021-03-01 18:11:03,073 : INFO : EPOCH 7 - PROGRESS: at 14.76% examples, 146599 words/s, in_qsize 5, out_qsize 0\n",
            "2021-03-01 18:11:04,129 : INFO : EPOCH 7 - PROGRESS: at 17.90% examples, 147075 words/s, in_qsize 5, out_qsize 0\n",
            "2021-03-01 18:11:05,201 : INFO : EPOCH 7 - PROGRESS: at 21.06% examples, 147061 words/s, in_qsize 5, out_qsize 0\n",
            "2021-03-01 18:11:06,269 : INFO : EPOCH 7 - PROGRESS: at 24.22% examples, 147158 words/s, in_qsize 4, out_qsize 1\n",
            "2021-03-01 18:11:07,298 : INFO : EPOCH 7 - PROGRESS: at 27.38% examples, 147832 words/s, in_qsize 5, out_qsize 0\n",
            "2021-03-01 18:11:08,368 : INFO : EPOCH 7 - PROGRESS: at 30.56% examples, 147808 words/s, in_qsize 5, out_qsize 0\n",
            "2021-03-01 18:11:09,397 : INFO : EPOCH 7 - PROGRESS: at 33.57% examples, 147640 words/s, in_qsize 4, out_qsize 1\n",
            "2021-03-01 18:11:10,405 : INFO : EPOCH 7 - PROGRESS: at 36.60% examples, 147747 words/s, in_qsize 4, out_qsize 1\n",
            "2021-03-01 18:11:11,438 : INFO : EPOCH 7 - PROGRESS: at 39.78% examples, 148108 words/s, in_qsize 5, out_qsize 0\n",
            "2021-03-01 18:11:12,459 : INFO : EPOCH 7 - PROGRESS: at 42.66% examples, 147531 words/s, in_qsize 4, out_qsize 1\n",
            "2021-03-01 18:11:13,474 : INFO : EPOCH 7 - PROGRESS: at 45.86% examples, 148063 words/s, in_qsize 5, out_qsize 0\n",
            "2021-03-01 18:11:14,521 : INFO : EPOCH 7 - PROGRESS: at 48.91% examples, 147765 words/s, in_qsize 5, out_qsize 0\n",
            "2021-03-01 18:11:15,557 : INFO : EPOCH 7 - PROGRESS: at 51.81% examples, 147162 words/s, in_qsize 5, out_qsize 0\n",
            "2021-03-01 18:11:16,584 : INFO : EPOCH 7 - PROGRESS: at 54.88% examples, 147119 words/s, in_qsize 5, out_qsize 0\n",
            "2021-03-01 18:11:17,625 : INFO : EPOCH 7 - PROGRESS: at 57.94% examples, 146972 words/s, in_qsize 5, out_qsize 0\n",
            "2021-03-01 18:11:18,652 : INFO : EPOCH 7 - PROGRESS: at 61.00% examples, 146932 words/s, in_qsize 5, out_qsize 0\n",
            "2021-03-01 18:11:19,699 : INFO : EPOCH 7 - PROGRESS: at 64.05% examples, 146755 words/s, in_qsize 5, out_qsize 0\n",
            "2021-03-01 18:11:20,733 : INFO : EPOCH 7 - PROGRESS: at 66.96% examples, 146366 words/s, in_qsize 4, out_qsize 1\n",
            "2021-03-01 18:11:21,753 : INFO : EPOCH 7 - PROGRESS: at 70.16% examples, 146719 words/s, in_qsize 5, out_qsize 0\n",
            "2021-03-01 18:11:22,809 : INFO : EPOCH 7 - PROGRESS: at 73.05% examples, 146233 words/s, in_qsize 5, out_qsize 1\n",
            "2021-03-01 18:11:23,852 : INFO : EPOCH 7 - PROGRESS: at 76.26% examples, 146438 words/s, in_qsize 5, out_qsize 0\n",
            "2021-03-01 18:11:24,862 : INFO : EPOCH 7 - PROGRESS: at 79.30% examples, 146519 words/s, in_qsize 5, out_qsize 0\n",
            "2021-03-01 18:11:25,895 : INFO : EPOCH 7 - PROGRESS: at 82.35% examples, 146494 words/s, in_qsize 5, out_qsize 0\n",
            "2021-03-01 18:11:26,948 : INFO : EPOCH 7 - PROGRESS: at 85.40% examples, 146364 words/s, in_qsize 5, out_qsize 0\n",
            "2021-03-01 18:11:27,956 : INFO : EPOCH 7 - PROGRESS: at 88.29% examples, 146209 words/s, in_qsize 4, out_qsize 1\n",
            "2021-03-01 18:11:29,005 : INFO : EPOCH 7 - PROGRESS: at 91.47% examples, 146346 words/s, in_qsize 5, out_qsize 0\n",
            "2021-03-01 18:11:30,098 : INFO : EPOCH 7 - PROGRESS: at 94.67% examples, 146270 words/s, in_qsize 5, out_qsize 0\n",
            "2021-03-01 18:11:31,110 : INFO : EPOCH 7 - PROGRESS: at 97.71% examples, 146337 words/s, in_qsize 5, out_qsize 0\n",
            "2021-03-01 18:11:31,762 : INFO : worker thread finished; awaiting finish of 2 more threads\n",
            "2021-03-01 18:11:31,792 : INFO : worker thread finished; awaiting finish of 1 more threads\n",
            "2021-03-01 18:11:31,812 : INFO : worker thread finished; awaiting finish of 0 more threads\n",
            "2021-03-01 18:11:31,813 : INFO : EPOCH - 7 : training on 6578923 raw words (4958221 effective words) took 33.8s, 146634 effective words/s\n",
            "2021-03-01 18:11:32,849 : INFO : EPOCH 8 - PROGRESS: at 2.81% examples, 139835 words/s, in_qsize 5, out_qsize 0\n",
            "2021-03-01 18:11:33,897 : INFO : EPOCH 8 - PROGRESS: at 5.94% examples, 145261 words/s, in_qsize 5, out_qsize 0\n",
            "2021-03-01 18:11:34,947 : INFO : EPOCH 8 - PROGRESS: at 9.07% examples, 146912 words/s, in_qsize 5, out_qsize 0\n",
            "2021-03-01 18:11:36,043 : INFO : EPOCH 8 - PROGRESS: at 12.36% examples, 147895 words/s, in_qsize 5, out_qsize 0\n",
            "2021-03-01 18:11:37,073 : INFO : EPOCH 8 - PROGRESS: at 15.36% examples, 147497 words/s, in_qsize 5, out_qsize 0\n",
            "2021-03-01 18:11:38,077 : INFO : EPOCH 8 - PROGRESS: at 18.35% examples, 147851 words/s, in_qsize 5, out_qsize 0\n",
            "2021-03-01 18:11:39,107 : INFO : EPOCH 8 - PROGRESS: at 21.37% examples, 147555 words/s, in_qsize 5, out_qsize 0\n",
            "2021-03-01 18:11:40,162 : INFO : EPOCH 8 - PROGRESS: at 24.52% examples, 147824 words/s, in_qsize 5, out_qsize 0\n",
            "2021-03-01 18:11:41,208 : INFO : EPOCH 8 - PROGRESS: at 27.69% examples, 148136 words/s, in_qsize 5, out_qsize 0\n",
            "2021-03-01 18:11:42,237 : INFO : EPOCH 8 - PROGRESS: at 30.86% examples, 148664 words/s, in_qsize 5, out_qsize 0\n",
            "2021-03-01 18:11:43,260 : INFO : EPOCH 8 - PROGRESS: at 33.87% examples, 148526 words/s, in_qsize 5, out_qsize 0\n",
            "2021-03-01 18:11:44,309 : INFO : EPOCH 8 - PROGRESS: at 36.90% examples, 148073 words/s, in_qsize 5, out_qsize 0\n",
            "2021-03-01 18:11:45,382 : INFO : EPOCH 8 - PROGRESS: at 40.08% examples, 147985 words/s, in_qsize 4, out_qsize 1\n",
            "2021-03-01 18:11:46,455 : INFO : EPOCH 8 - PROGRESS: at 43.27% examples, 147924 words/s, in_qsize 4, out_qsize 1\n",
            "2021-03-01 18:11:47,514 : INFO : EPOCH 8 - PROGRESS: at 46.47% examples, 147987 words/s, in_qsize 5, out_qsize 0\n",
            "2021-03-01 18:11:48,531 : INFO : EPOCH 8 - PROGRESS: at 49.36% examples, 147516 words/s, in_qsize 5, out_qsize 0\n",
            "2021-03-01 18:11:49,535 : INFO : EPOCH 8 - PROGRESS: at 52.43% examples, 147631 words/s, in_qsize 6, out_qsize 1\n",
            "2021-03-01 18:11:50,650 : INFO : EPOCH 8 - PROGRESS: at 55.65% examples, 147260 words/s, in_qsize 3, out_qsize 2\n",
            "2021-03-01 18:11:51,668 : INFO : EPOCH 8 - PROGRESS: at 58.86% examples, 147650 words/s, in_qsize 5, out_qsize 0\n",
            "2021-03-01 18:11:52,740 : INFO : EPOCH 8 - PROGRESS: at 61.91% examples, 147262 words/s, in_qsize 5, out_qsize 0\n",
            "2021-03-01 18:11:53,795 : INFO : EPOCH 8 - PROGRESS: at 65.12% examples, 147369 words/s, in_qsize 5, out_qsize 0\n",
            "2021-03-01 18:11:54,808 : INFO : EPOCH 8 - PROGRESS: at 68.18% examples, 147404 words/s, in_qsize 5, out_qsize 0\n",
            "2021-03-01 18:11:55,818 : INFO : EPOCH 8 - PROGRESS: at 71.07% examples, 147147 words/s, in_qsize 5, out_qsize 0\n",
            "2021-03-01 18:11:56,834 : INFO : EPOCH 8 - PROGRESS: at 73.97% examples, 146888 words/s, in_qsize 4, out_qsize 1\n",
            "2021-03-01 18:11:57,851 : INFO : EPOCH 8 - PROGRESS: at 77.02% examples, 146915 words/s, in_qsize 5, out_qsize 0\n",
            "2021-03-01 18:11:58,876 : INFO : EPOCH 8 - PROGRESS: at 80.06% examples, 146913 words/s, in_qsize 5, out_qsize 0\n",
            "2021-03-01 18:11:59,994 : INFO : EPOCH 8 - PROGRESS: at 83.26% examples, 146689 words/s, in_qsize 5, out_qsize 0\n",
            "2021-03-01 18:12:01,042 : INFO : EPOCH 8 - PROGRESS: at 86.46% examples, 146841 words/s, in_qsize 5, out_qsize 0\n",
            "2021-03-01 18:12:02,053 : INFO : EPOCH 8 - PROGRESS: at 89.49% examples, 146906 words/s, in_qsize 5, out_qsize 0\n",
            "2021-03-01 18:12:03,063 : INFO : EPOCH 8 - PROGRESS: at 92.54% examples, 146951 words/s, in_qsize 6, out_qsize 0\n",
            "2021-03-01 18:12:04,176 : INFO : EPOCH 8 - PROGRESS: at 95.73% examples, 146774 words/s, in_qsize 5, out_qsize 0\n",
            "2021-03-01 18:12:05,207 : INFO : EPOCH 8 - PROGRESS: at 98.78% examples, 146822 words/s, in_qsize 5, out_qsize 0\n",
            "2021-03-01 18:12:05,527 : INFO : worker thread finished; awaiting finish of 2 more threads\n",
            "2021-03-01 18:12:05,552 : INFO : worker thread finished; awaiting finish of 1 more threads\n",
            "2021-03-01 18:12:05,569 : INFO : worker thread finished; awaiting finish of 0 more threads\n",
            "2021-03-01 18:12:05,573 : INFO : EPOCH - 8 : training on 6578923 raw words (4959028 effective words) took 33.7s, 146943 effective words/s\n",
            "2021-03-01 18:12:06,614 : INFO : EPOCH 9 - PROGRESS: at 2.81% examples, 138323 words/s, in_qsize 5, out_qsize 0\n",
            "2021-03-01 18:12:07,689 : INFO : EPOCH 9 - PROGRESS: at 6.09% examples, 146353 words/s, in_qsize 5, out_qsize 0\n",
            "2021-03-01 18:12:08,741 : INFO : EPOCH 9 - PROGRESS: at 9.22% examples, 147606 words/s, in_qsize 5, out_qsize 0\n",
            "2021-03-01 18:12:09,752 : INFO : EPOCH 9 - PROGRESS: at 12.21% examples, 147774 words/s, in_qsize 5, out_qsize 0\n",
            "2021-03-01 18:12:10,786 : INFO : EPOCH 9 - PROGRESS: at 15.36% examples, 148774 words/s, in_qsize 5, out_qsize 0\n",
            "2021-03-01 18:12:11,816 : INFO : EPOCH 9 - PROGRESS: at 18.35% examples, 148283 words/s, in_qsize 5, out_qsize 0\n",
            "2021-03-01 18:12:12,869 : INFO : EPOCH 9 - PROGRESS: at 21.52% examples, 148469 words/s, in_qsize 5, out_qsize 0\n",
            "2021-03-01 18:12:13,883 : INFO : EPOCH 9 - PROGRESS: at 24.52% examples, 148433 words/s, in_qsize 5, out_qsize 0\n",
            "2021-03-01 18:12:14,888 : INFO : EPOCH 9 - PROGRESS: at 27.54% examples, 148552 words/s, in_qsize 5, out_qsize 0\n",
            "2021-03-01 18:12:15,946 : INFO : EPOCH 9 - PROGRESS: at 30.70% examples, 148651 words/s, in_qsize 5, out_qsize 0\n",
            "2021-03-01 18:12:17,024 : INFO : EPOCH 9 - PROGRESS: at 33.87% examples, 148454 words/s, in_qsize 5, out_qsize 0\n",
            "2021-03-01 18:12:18,060 : INFO : EPOCH 9 - PROGRESS: at 37.06% examples, 148761 words/s, in_qsize 5, out_qsize 0\n",
            "2021-03-01 18:12:19,126 : INFO : EPOCH 9 - PROGRESS: at 40.23% examples, 148699 words/s, in_qsize 5, out_qsize 0\n",
            "2021-03-01 18:12:20,212 : INFO : EPOCH 9 - PROGRESS: at 42.97% examples, 146889 words/s, in_qsize 4, out_qsize 1\n",
            "2021-03-01 18:12:21,243 : INFO : EPOCH 9 - PROGRESS: at 44.64% examples, 142500 words/s, in_qsize 5, out_qsize 0\n",
            "2021-03-01 18:12:22,385 : INFO : EPOCH 9 - PROGRESS: at 46.16% examples, 137276 words/s, in_qsize 5, out_qsize 0\n",
            "2021-03-01 18:12:23,404 : INFO : EPOCH 9 - PROGRESS: at 47.84% examples, 134053 words/s, in_qsize 5, out_qsize 0\n",
            "2021-03-01 18:12:24,582 : INFO : EPOCH 9 - PROGRESS: at 49.36% examples, 129700 words/s, in_qsize 5, out_qsize 1\n",
            "2021-03-01 18:12:25,603 : INFO : EPOCH 9 - PROGRESS: at 51.05% examples, 127197 words/s, in_qsize 5, out_qsize 0\n",
            "2021-03-01 18:12:26,781 : INFO : EPOCH 9 - PROGRESS: at 52.58% examples, 123673 words/s, in_qsize 5, out_qsize 0\n",
            "2021-03-01 18:12:28,007 : INFO : EPOCH 9 - PROGRESS: at 54.42% examples, 120940 words/s, in_qsize 5, out_qsize 0\n",
            "2021-03-01 18:12:29,045 : INFO : EPOCH 9 - PROGRESS: at 55.80% examples, 118474 words/s, in_qsize 5, out_qsize 0\n",
            "2021-03-01 18:12:30,082 : INFO : EPOCH 9 - PROGRESS: at 57.33% examples, 116524 words/s, in_qsize 4, out_qsize 1\n",
            "2021-03-01 18:12:31,085 : INFO : EPOCH 9 - PROGRESS: at 58.86% examples, 114880 words/s, in_qsize 5, out_qsize 0\n",
            "2021-03-01 18:12:32,105 : INFO : EPOCH 9 - PROGRESS: at 60.23% examples, 113010 words/s, in_qsize 5, out_qsize 0\n",
            "2021-03-01 18:12:33,201 : INFO : EPOCH 9 - PROGRESS: at 61.76% examples, 111242 words/s, in_qsize 5, out_qsize 0\n",
            "2021-03-01 18:12:34,202 : INFO : EPOCH 9 - PROGRESS: at 64.21% examples, 111539 words/s, in_qsize 5, out_qsize 0\n",
            "2021-03-01 18:12:35,247 : INFO : EPOCH 9 - PROGRESS: at 67.26% examples, 112673 words/s, in_qsize 5, out_qsize 0\n",
            "2021-03-01 18:12:36,262 : INFO : EPOCH 9 - PROGRESS: at 70.15% examples, 113594 words/s, in_qsize 5, out_qsize 0\n",
            "2021-03-01 18:12:37,267 : INFO : EPOCH 9 - PROGRESS: at 73.20% examples, 114734 words/s, in_qsize 5, out_qsize 0\n",
            "2021-03-01 18:12:38,287 : INFO : EPOCH 9 - PROGRESS: at 76.10% examples, 115527 words/s, in_qsize 5, out_qsize 0\n",
            "2021-03-01 18:12:39,367 : INFO : EPOCH 9 - PROGRESS: at 79.30% examples, 116502 words/s, in_qsize 5, out_qsize 0\n",
            "2021-03-01 18:12:40,387 : INFO : EPOCH 9 - PROGRESS: at 82.35% examples, 117423 words/s, in_qsize 4, out_qsize 1\n",
            "2021-03-01 18:12:41,412 : INFO : EPOCH 9 - PROGRESS: at 85.40% examples, 118267 words/s, in_qsize 5, out_qsize 0\n",
            "2021-03-01 18:12:42,438 : INFO : EPOCH 9 - PROGRESS: at 88.14% examples, 118651 words/s, in_qsize 6, out_qsize 1\n",
            "2021-03-01 18:12:43,473 : INFO : EPOCH 9 - PROGRESS: at 91.16% examples, 119369 words/s, in_qsize 5, out_qsize 0\n",
            "2021-03-01 18:12:44,557 : INFO : EPOCH 9 - PROGRESS: at 94.36% examples, 120095 words/s, in_qsize 5, out_qsize 0\n",
            "2021-03-01 18:12:45,600 : INFO : EPOCH 9 - PROGRESS: at 97.40% examples, 120720 words/s, in_qsize 4, out_qsize 1\n",
            "2021-03-01 18:12:46,353 : INFO : worker thread finished; awaiting finish of 2 more threads\n",
            "2021-03-01 18:12:46,376 : INFO : worker thread finished; awaiting finish of 1 more threads\n",
            "2021-03-01 18:12:46,418 : INFO : worker thread finished; awaiting finish of 0 more threads\n",
            "2021-03-01 18:12:46,419 : INFO : EPOCH - 9 : training on 6578923 raw words (4958948 effective words) took 40.8s, 121427 effective words/s\n",
            "2021-03-01 18:12:47,496 : INFO : EPOCH 10 - PROGRESS: at 2.96% examples, 141174 words/s, in_qsize 5, out_qsize 0\n",
            "2021-03-01 18:12:48,507 : INFO : EPOCH 10 - PROGRESS: at 5.94% examples, 144890 words/s, in_qsize 5, out_qsize 0\n",
            "2021-03-01 18:12:49,530 : INFO : EPOCH 10 - PROGRESS: at 8.92% examples, 145473 words/s, in_qsize 5, out_qsize 0\n",
            "2021-03-01 18:12:50,562 : INFO : EPOCH 10 - PROGRESS: at 11.91% examples, 145447 words/s, in_qsize 5, out_qsize 1\n",
            "2021-03-01 18:12:51,647 : INFO : EPOCH 10 - PROGRESS: at 15.06% examples, 145432 words/s, in_qsize 3, out_qsize 2\n",
            "2021-03-01 18:12:52,654 : INFO : EPOCH 10 - PROGRESS: at 18.20% examples, 147275 words/s, in_qsize 6, out_qsize 1\n",
            "2021-03-01 18:12:53,691 : INFO : EPOCH 10 - PROGRESS: at 21.06% examples, 145836 words/s, in_qsize 5, out_qsize 0\n",
            "2021-03-01 18:12:54,694 : INFO : EPOCH 10 - PROGRESS: at 24.07% examples, 146329 words/s, in_qsize 5, out_qsize 0\n",
            "2021-03-01 18:12:55,725 : INFO : EPOCH 10 - PROGRESS: at 27.08% examples, 146247 words/s, in_qsize 5, out_qsize 0\n",
            "2021-03-01 18:12:56,808 : INFO : EPOCH 10 - PROGRESS: at 30.25% examples, 146180 words/s, in_qsize 5, out_qsize 0\n",
            "2021-03-01 18:12:57,831 : INFO : EPOCH 10 - PROGRESS: at 33.42% examples, 146936 words/s, in_qsize 5, out_qsize 0\n",
            "2021-03-01 18:12:58,872 : INFO : EPOCH 10 - PROGRESS: at 36.45% examples, 146708 words/s, in_qsize 5, out_qsize 1\n",
            "2021-03-01 18:12:59,962 : INFO : EPOCH 10 - PROGRESS: at 39.62% examples, 146539 words/s, in_qsize 4, out_qsize 1\n",
            "2021-03-01 18:13:01,023 : INFO : EPOCH 10 - PROGRESS: at 42.82% examples, 146855 words/s, in_qsize 5, out_qsize 0\n",
            "2021-03-01 18:13:02,009 : INFO : EPOCH 10 - PROGRESS: at 45.71% examples, 146562 words/s, in_qsize 6, out_qsize 0\n",
            "2021-03-01 18:13:03,047 : INFO : EPOCH 10 - PROGRESS: at 48.75% examples, 146434 words/s, in_qsize 5, out_qsize 0\n",
            "2021-03-01 18:13:04,092 : INFO : EPOCH 10 - PROGRESS: at 51.97% examples, 146708 words/s, in_qsize 5, out_qsize 0\n",
            "2021-03-01 18:13:05,093 : INFO : EPOCH 10 - PROGRESS: at 54.88% examples, 146487 words/s, in_qsize 4, out_qsize 1\n",
            "2021-03-01 18:13:06,136 : INFO : EPOCH 10 - PROGRESS: at 57.94% examples, 146349 words/s, in_qsize 5, out_qsize 0\n",
            "2021-03-01 18:13:07,158 : INFO : EPOCH 10 - PROGRESS: at 61.00% examples, 146383 words/s, in_qsize 5, out_qsize 0\n",
            "2021-03-01 18:13:08,221 : INFO : EPOCH 10 - PROGRESS: at 64.05% examples, 146125 words/s, in_qsize 5, out_qsize 0\n",
            "2021-03-01 18:13:09,259 : INFO : EPOCH 10 - PROGRESS: at 67.11% examples, 146069 words/s, in_qsize 5, out_qsize 0\n",
            "2021-03-01 18:13:10,266 : INFO : EPOCH 10 - PROGRESS: at 70.00% examples, 145873 words/s, in_qsize 5, out_qsize 0\n",
            "2021-03-01 18:13:11,321 : INFO : EPOCH 10 - PROGRESS: at 73.20% examples, 146032 words/s, in_qsize 5, out_qsize 0\n",
            "2021-03-01 18:13:12,422 : INFO : EPOCH 10 - PROGRESS: at 76.41% examples, 145915 words/s, in_qsize 5, out_qsize 0\n",
            "2021-03-01 18:13:13,458 : INFO : EPOCH 10 - PROGRESS: at 79.45% examples, 145875 words/s, in_qsize 5, out_qsize 0\n",
            "2021-03-01 18:13:14,519 : INFO : EPOCH 10 - PROGRESS: at 82.50% examples, 145720 words/s, in_qsize 5, out_qsize 0\n",
            "2021-03-01 18:13:15,594 : INFO : EPOCH 10 - PROGRESS: at 85.55% examples, 145511 words/s, in_qsize 5, out_qsize 0\n",
            "2021-03-01 18:13:16,656 : INFO : EPOCH 10 - PROGRESS: at 88.74% examples, 145621 words/s, in_qsize 5, out_qsize 0\n",
            "2021-03-01 18:13:17,701 : INFO : EPOCH 10 - PROGRESS: at 91.77% examples, 145554 words/s, in_qsize 4, out_qsize 1\n",
            "2021-03-01 18:13:18,762 : INFO : EPOCH 10 - PROGRESS: at 94.97% examples, 145653 words/s, in_qsize 5, out_qsize 0\n",
            "2021-03-01 18:13:19,839 : INFO : EPOCH 10 - PROGRESS: at 98.17% examples, 145673 words/s, in_qsize 5, out_qsize 0\n",
            "2021-03-01 18:13:20,354 : INFO : worker thread finished; awaiting finish of 2 more threads\n",
            "2021-03-01 18:13:20,358 : INFO : worker thread finished; awaiting finish of 1 more threads\n",
            "2021-03-01 18:13:20,419 : INFO : worker thread finished; awaiting finish of 0 more threads\n",
            "2021-03-01 18:13:20,420 : INFO : EPOCH - 10 : training on 6578923 raw words (4956874 effective words) took 34.0s, 145841 effective words/s\n",
            "2021-03-01 18:13:20,421 : INFO : training on a 65789230 raw words (49581802 effective words) took 344.5s, 143920 effective words/s\n",
            "2021-03-01 18:13:27,418 : INFO : collecting all words and their counts\n",
            "2021-03-01 18:13:27,419 : INFO : PROGRESS: at sentence #0, processed 0 words, keeping 0 word types\n",
            "2021-03-01 18:13:27,463 : INFO : PROGRESS: at sentence #10000, processed 132469 words, keeping 15277 word types\n",
            "2021-03-01 18:13:27,497 : INFO : PROGRESS: at sentence #20000, processed 262575 words, keeping 21700 word types\n",
            "2021-03-01 18:13:27,541 : INFO : PROGRESS: at sentence #30000, processed 390015 words, keeping 26273 word types\n",
            "2021-03-01 18:13:27,585 : INFO : PROGRESS: at sentence #40000, processed 516305 words, keeping 30167 word types\n",
            "2021-03-01 18:13:27,625 : INFO : PROGRESS: at sentence #50000, processed 639915 words, keeping 33605 word types\n",
            "2021-03-01 18:13:27,679 : INFO : PROGRESS: at sentence #60000, processed 761863 words, keeping 36750 word types\n",
            "2021-03-01 18:13:27,726 : INFO : PROGRESS: at sentence #70000, processed 883076 words, keeping 39701 word types\n",
            "2021-03-01 18:13:27,761 : INFO : PROGRESS: at sentence #80000, processed 1003480 words, keeping 42343 word types\n",
            "2021-03-01 18:13:27,809 : INFO : PROGRESS: at sentence #90000, processed 1124458 words, keeping 44906 word types\n",
            "2021-03-01 18:13:27,849 : INFO : collected 46898 word types from a corpus of 1225447 raw words and 98401 sentences\n",
            "2021-03-01 18:13:27,850 : INFO : Loading a fresh vocabulary\n",
            "2021-03-01 18:13:28,351 : INFO : effective_min_count=1 retains 46898 unique words (100% of original 46898, drops 0)\n",
            "2021-03-01 18:13:28,352 : INFO : effective_min_count=1 leaves 1225447 word corpus (100% of original 1225447, drops 0)\n",
            "2021-03-01 18:13:28,523 : INFO : deleting the raw counts dictionary of 46898 items\n",
            "2021-03-01 18:13:28,525 : INFO : sample=0.001 downsamples 26 most-common words\n",
            "2021-03-01 18:13:28,526 : INFO : downsampling leaves estimated 919351 word corpus (75.0% of prior 1225447)\n",
            "2021-03-01 18:13:29,426 : INFO : estimated required memory for 46898 words, 259484 buckets and 100 dimensions: 175924384 bytes\n",
            "2021-03-01 18:13:29,445 : INFO : resetting layer weights\n",
            "2021-03-01 18:13:40,795 : INFO : Total number of ngrams is 259484\n",
            "2021-03-01 18:13:43,127 : INFO : training model with 3 workers on 46898 vocabulary and 100 features, using sg=0 hs=0 sample=0.001 negative=5 window=5\n",
            "2021-03-01 18:13:44,160 : INFO : EPOCH 1 - PROGRESS: at 16.19% examples, 154551 words/s, in_qsize 5, out_qsize 0\n",
            "2021-03-01 18:13:45,253 : INFO : EPOCH 1 - PROGRESS: at 34.50% examples, 156282 words/s, in_qsize 4, out_qsize 1\n",
            "2021-03-01 18:13:46,278 : INFO : EPOCH 1 - PROGRESS: at 53.27% examples, 160202 words/s, in_qsize 5, out_qsize 0\n",
            "2021-03-01 18:13:47,309 : INFO : EPOCH 1 - PROGRESS: at 71.68% examples, 160067 words/s, in_qsize 5, out_qsize 0\n",
            "2021-03-01 18:13:48,354 : INFO : EPOCH 1 - PROGRESS: at 90.20% examples, 159613 words/s, in_qsize 5, out_qsize 0\n",
            "2021-03-01 18:13:48,819 : INFO : worker thread finished; awaiting finish of 2 more threads\n",
            "2021-03-01 18:13:48,830 : INFO : worker thread finished; awaiting finish of 1 more threads\n",
            "2021-03-01 18:13:48,857 : INFO : worker thread finished; awaiting finish of 0 more threads\n",
            "2021-03-01 18:13:48,859 : INFO : EPOCH - 1 : training on 1225447 raw words (919624 effective words) took 5.7s, 160749 effective words/s\n",
            "2021-03-01 18:13:49,929 : INFO : EPOCH 2 - PROGRESS: at 16.19% examples, 148283 words/s, in_qsize 5, out_qsize 0\n",
            "2021-03-01 18:13:50,997 : INFO : EPOCH 2 - PROGRESS: at 34.50% examples, 156114 words/s, in_qsize 5, out_qsize 0\n",
            "2021-03-01 18:13:51,991 : INFO : EPOCH 2 - PROGRESS: at 52.44% examples, 158450 words/s, in_qsize 5, out_qsize 0\n",
            "2021-03-01 18:13:53,016 : INFO : EPOCH 2 - PROGRESS: at 70.83% examples, 159010 words/s, in_qsize 5, out_qsize 0\n",
            "2021-03-01 18:13:54,025 : INFO : EPOCH 2 - PROGRESS: at 88.51% examples, 158420 words/s, in_qsize 5, out_qsize 0\n",
            "2021-03-01 18:13:54,580 : INFO : worker thread finished; awaiting finish of 2 more threads\n",
            "2021-03-01 18:13:54,627 : INFO : worker thread finished; awaiting finish of 1 more threads\n",
            "2021-03-01 18:13:54,629 : INFO : worker thread finished; awaiting finish of 0 more threads\n",
            "2021-03-01 18:13:54,635 : INFO : EPOCH - 2 : training on 1225447 raw words (919308 effective words) took 5.8s, 159340 effective words/s\n",
            "2021-03-01 18:13:55,765 : INFO : EPOCH 3 - PROGRESS: at 16.97% examples, 151770 words/s, in_qsize 4, out_qsize 1\n",
            "2021-03-01 18:13:56,812 : INFO : EPOCH 3 - PROGRESS: at 36.12% examples, 161531 words/s, in_qsize 5, out_qsize 0\n",
            "2021-03-01 18:13:57,850 : INFO : EPOCH 3 - PROGRESS: at 53.27% examples, 158344 words/s, in_qsize 4, out_qsize 1\n",
            "2021-03-01 18:13:58,875 : INFO : EPOCH 3 - PROGRESS: at 71.68% examples, 158932 words/s, in_qsize 5, out_qsize 0\n",
            "2021-03-01 18:13:59,877 : INFO : EPOCH 3 - PROGRESS: at 89.36% examples, 158532 words/s, in_qsize 4, out_qsize 1\n",
            "2021-03-01 18:14:00,329 : INFO : worker thread finished; awaiting finish of 2 more threads\n",
            "2021-03-01 18:14:00,371 : INFO : worker thread finished; awaiting finish of 1 more threads\n",
            "2021-03-01 18:14:00,381 : INFO : worker thread finished; awaiting finish of 0 more threads\n",
            "2021-03-01 18:14:00,383 : INFO : EPOCH - 3 : training on 1225447 raw words (919229 effective words) took 5.7s, 161046 effective words/s\n",
            "2021-03-01 18:14:01,506 : INFO : EPOCH 4 - PROGRESS: at 16.97% examples, 149487 words/s, in_qsize 3, out_qsize 2\n",
            "2021-03-01 18:14:02,544 : INFO : EPOCH 4 - PROGRESS: at 35.31% examples, 157507 words/s, in_qsize 5, out_qsize 0\n",
            "2021-03-01 18:14:03,611 : INFO : EPOCH 4 - PROGRESS: at 54.11% examples, 158876 words/s, in_qsize 5, out_qsize 0\n",
            "2021-03-01 18:14:04,647 : INFO : EPOCH 4 - PROGRESS: at 72.52% examples, 158978 words/s, in_qsize 5, out_qsize 0\n",
            "2021-03-01 18:14:05,655 : INFO : EPOCH 4 - PROGRESS: at 90.20% examples, 158463 words/s, in_qsize 5, out_qsize 1\n",
            "2021-03-01 18:14:06,093 : INFO : worker thread finished; awaiting finish of 2 more threads\n",
            "2021-03-01 18:14:06,109 : INFO : worker thread finished; awaiting finish of 1 more threads\n",
            "2021-03-01 18:14:06,114 : INFO : worker thread finished; awaiting finish of 0 more threads\n",
            "2021-03-01 18:14:06,118 : INFO : EPOCH - 4 : training on 1225447 raw words (919291 effective words) took 5.7s, 160786 effective words/s\n",
            "2021-03-01 18:14:07,168 : INFO : EPOCH 5 - PROGRESS: at 16.97% examples, 160411 words/s, in_qsize 5, out_qsize 0\n",
            "2021-03-01 18:14:08,206 : INFO : EPOCH 5 - PROGRESS: at 34.50% examples, 159549 words/s, in_qsize 5, out_qsize 0\n",
            "2021-03-01 18:14:09,210 : INFO : EPOCH 5 - PROGRESS: at 51.61% examples, 158679 words/s, in_qsize 5, out_qsize 0\n",
            "2021-03-01 18:14:10,244 : INFO : EPOCH 5 - PROGRESS: at 69.99% examples, 158842 words/s, in_qsize 5, out_qsize 0\n",
            "2021-03-01 18:14:11,291 : INFO : EPOCH 5 - PROGRESS: at 88.51% examples, 158557 words/s, in_qsize 6, out_qsize 0\n",
            "2021-03-01 18:14:11,783 : INFO : worker thread finished; awaiting finish of 2 more threads\n",
            "2021-03-01 18:14:11,834 : INFO : worker thread finished; awaiting finish of 1 more threads\n",
            "2021-03-01 18:14:11,861 : INFO : worker thread finished; awaiting finish of 0 more threads\n",
            "2021-03-01 18:14:11,862 : INFO : EPOCH - 5 : training on 1225447 raw words (919353 effective words) took 5.7s, 160574 effective words/s\n",
            "2021-03-01 18:14:12,912 : INFO : EPOCH 6 - PROGRESS: at 16.19% examples, 154702 words/s, in_qsize 5, out_qsize 0\n",
            "2021-03-01 18:14:13,949 : INFO : EPOCH 6 - PROGRESS: at 33.69% examples, 156987 words/s, in_qsize 5, out_qsize 0\n",
            "2021-03-01 18:14:14,972 : INFO : EPOCH 6 - PROGRESS: at 51.61% examples, 158431 words/s, in_qsize 5, out_qsize 0\n",
            "2021-03-01 18:14:16,026 : INFO : EPOCH 6 - PROGRESS: at 69.99% examples, 157872 words/s, in_qsize 6, out_qsize 1\n",
            "2021-03-01 18:14:17,095 : INFO : EPOCH 6 - PROGRESS: at 89.36% examples, 158539 words/s, in_qsize 5, out_qsize 0\n",
            "2021-03-01 18:14:17,595 : INFO : worker thread finished; awaiting finish of 2 more threads\n",
            "2021-03-01 18:14:17,596 : INFO : worker thread finished; awaiting finish of 1 more threads\n",
            "2021-03-01 18:14:17,633 : INFO : worker thread finished; awaiting finish of 0 more threads\n",
            "2021-03-01 18:14:17,634 : INFO : EPOCH - 6 : training on 1225447 raw words (919115 effective words) took 5.7s, 160108 effective words/s\n",
            "2021-03-01 18:14:18,684 : INFO : EPOCH 7 - PROGRESS: at 16.97% examples, 161187 words/s, in_qsize 5, out_qsize 0\n",
            "2021-03-01 18:14:19,684 : INFO : EPOCH 7 - PROGRESS: at 33.69% examples, 159253 words/s, in_qsize 5, out_qsize 0\n",
            "2021-03-01 18:14:20,693 : INFO : EPOCH 7 - PROGRESS: at 51.61% examples, 160683 words/s, in_qsize 5, out_qsize 0\n",
            "2021-03-01 18:14:21,753 : INFO : EPOCH 7 - PROGRESS: at 69.99% examples, 159315 words/s, in_qsize 4, out_qsize 1\n",
            "2021-03-01 18:14:22,786 : INFO : EPOCH 7 - PROGRESS: at 89.36% examples, 160820 words/s, in_qsize 5, out_qsize 0\n",
            "2021-03-01 18:14:23,271 : INFO : worker thread finished; awaiting finish of 2 more threads\n",
            "2021-03-01 18:14:23,307 : INFO : worker thread finished; awaiting finish of 1 more threads\n",
            "2021-03-01 18:14:23,322 : INFO : worker thread finished; awaiting finish of 0 more threads\n",
            "2021-03-01 18:14:23,324 : INFO : EPOCH - 7 : training on 1225447 raw words (918991 effective words) took 5.7s, 162249 effective words/s\n",
            "2021-03-01 18:14:24,358 : INFO : EPOCH 8 - PROGRESS: at 15.41% examples, 147522 words/s, in_qsize 4, out_qsize 1\n",
            "2021-03-01 18:14:25,393 : INFO : EPOCH 8 - PROGRESS: at 34.50% examples, 160911 words/s, in_qsize 5, out_qsize 0\n",
            "2021-03-01 18:14:26,393 : INFO : EPOCH 8 - PROGRESS: at 52.44% examples, 162195 words/s, in_qsize 5, out_qsize 0\n",
            "2021-03-01 18:14:27,404 : INFO : EPOCH 8 - PROGRESS: at 70.83% examples, 162401 words/s, in_qsize 5, out_qsize 0\n",
            "2021-03-01 18:14:28,423 : INFO : EPOCH 8 - PROGRESS: at 88.51% examples, 160751 words/s, in_qsize 5, out_qsize 0\n",
            "2021-03-01 18:14:29,008 : INFO : worker thread finished; awaiting finish of 2 more threads\n",
            "2021-03-01 18:14:29,009 : INFO : worker thread finished; awaiting finish of 1 more threads\n",
            "2021-03-01 18:14:29,010 : INFO : worker thread finished; awaiting finish of 0 more threads\n",
            "2021-03-01 18:14:29,015 : INFO : EPOCH - 8 : training on 1225447 raw words (918930 effective words) took 5.7s, 161946 effective words/s\n",
            "2021-03-01 18:14:30,077 : INFO : EPOCH 9 - PROGRESS: at 16.97% examples, 158479 words/s, in_qsize 5, out_qsize 0\n",
            "2021-03-01 18:14:31,121 : INFO : EPOCH 9 - PROGRESS: at 35.31% examples, 161751 words/s, in_qsize 5, out_qsize 0\n",
            "2021-03-01 18:14:32,131 : INFO : EPOCH 9 - PROGRESS: at 53.27% examples, 162344 words/s, in_qsize 5, out_qsize 0\n",
            "2021-03-01 18:14:33,163 : INFO : EPOCH 9 - PROGRESS: at 71.68% examples, 161630 words/s, in_qsize 4, out_qsize 1\n",
            "2021-03-01 18:14:34,188 : INFO : EPOCH 9 - PROGRESS: at 90.20% examples, 161488 words/s, in_qsize 5, out_qsize 0\n",
            "2021-03-01 18:14:34,626 : INFO : worker thread finished; awaiting finish of 2 more threads\n",
            "2021-03-01 18:14:34,667 : INFO : worker thread finished; awaiting finish of 1 more threads\n",
            "2021-03-01 18:14:34,676 : INFO : worker thread finished; awaiting finish of 0 more threads\n",
            "2021-03-01 18:14:34,678 : INFO : EPOCH - 9 : training on 1225447 raw words (919402 effective words) took 5.6s, 162889 effective words/s\n",
            "2021-03-01 18:14:35,732 : INFO : EPOCH 10 - PROGRESS: at 16.19% examples, 151462 words/s, in_qsize 4, out_qsize 1\n",
            "2021-03-01 18:14:36,740 : INFO : EPOCH 10 - PROGRESS: at 33.69% examples, 157512 words/s, in_qsize 5, out_qsize 0\n",
            "2021-03-01 18:14:37,806 : INFO : EPOCH 10 - PROGRESS: at 52.43% examples, 159002 words/s, in_qsize 5, out_qsize 0\n",
            "2021-03-01 18:14:38,875 : INFO : EPOCH 10 - PROGRESS: at 71.68% examples, 159535 words/s, in_qsize 5, out_qsize 0\n",
            "2021-03-01 18:14:39,878 : INFO : EPOCH 10 - PROGRESS: at 89.36% examples, 159005 words/s, in_qsize 5, out_qsize 0\n",
            "2021-03-01 18:14:40,465 : INFO : worker thread finished; awaiting finish of 2 more threads\n",
            "2021-03-01 18:14:40,469 : INFO : worker thread finished; awaiting finish of 1 more threads\n",
            "2021-03-01 18:14:40,488 : INFO : worker thread finished; awaiting finish of 0 more threads\n",
            "2021-03-01 18:14:40,488 : INFO : EPOCH - 10 : training on 1225447 raw words (919258 effective words) took 5.8s, 158564 effective words/s\n",
            "2021-03-01 18:14:40,489 : INFO : training on a 12254470 raw words (9192501 effective words) took 57.4s, 160259 effective words/s\n"
          ],
          "name": "stderr"
        }
      ]
    },
    {
      "cell_type": "code",
      "metadata": {
        "id": "TkKmA5iNsspD"
      },
      "source": [
        "word2embedding_X = {word:ft_model_X.wv.get_vector(word) for word in list(ft_model_X.wv.vocab)}\r\n",
        "word2embedding_y = {word:ft_model_y.wv.get_vector(word) for word in list(ft_model_y.wv.vocab)}"
      ],
      "execution_count": 15,
      "outputs": []
    },
    {
      "cell_type": "markdown",
      "metadata": {
        "id": "c6MvRwwPgklr"
      },
      "source": [
        "# Finding Sequence Parameters"
      ]
    },
    {
      "cell_type": "code",
      "metadata": {
        "id": "3xd3T3HxiglM"
      },
      "source": [
        "X_text = df[\"text\"].values\n",
        "y_text = df[\"headlines\"].values"
      ],
      "execution_count": 16,
      "outputs": []
    },
    {
      "cell_type": "code",
      "metadata": {
        "id": "9-V9iPCYeJLm",
        "colab": {
          "base_uri": "https://localhost:8080/",
          "height": 36
        },
        "outputId": "b1b765bc-c408-4b79-8913-d8b15ffc5347"
      },
      "source": [
        "'''Tx = len(max(X_words, key=len))\n",
        "Ty = len(max(y_words, key=len))\n",
        "print(f\"Tx = {Tx}\\nTy = {Ty}\")'''"
      ],
      "execution_count": 17,
      "outputs": [
        {
          "output_type": "execute_result",
          "data": {
            "application/vnd.google.colaboratory.intrinsic+json": {
              "type": "string"
            },
            "text/plain": [
              "'Tx = len(max(X_words, key=len))\\nTy = len(max(y_words, key=len))\\nprint(f\"Tx = {Tx}\\nTy = {Ty}\")'"
            ]
          },
          "metadata": {
            "tags": []
          },
          "execution_count": 17
        }
      ]
    },
    {
      "cell_type": "code",
      "metadata": {
        "id": "BpU9FeI_i5wE",
        "colab": {
          "base_uri": "https://localhost:8080/"
        },
        "outputId": "6bef1c6d-9163-4b60-ae5f-cef8f3976aac"
      },
      "source": [
        "pad_length = 100\n",
        "Tx = pad_length\n",
        "Ty = pad_length\n",
        "\n",
        "tokenizer_X = Tokenizer()\n",
        "tokenizer_X.fit_on_texts(list(X_text))\n",
        "X_seq = tokenizer_X.texts_to_sequences(X_text)\n",
        "X_seq = pad_sequences(X_seq,  maxlen=pad_length, padding='post') \n",
        "vocab_size_X = len(tokenizer_X.word_index) + 1 \n",
        "\n",
        "tokenizer_y = Tokenizer()\n",
        "tokenizer_y.fit_on_texts(list(y_text))\n",
        "y_seq = tokenizer_y.texts_to_sequences(y_text)\n",
        "y_seq = pad_sequences(y_seq,  maxlen=pad_length, padding='post') \n",
        "vocab_size_y = len(tokenizer_y.word_index) + 1 \n",
        "\n",
        "print(f\"Vocabulary Size of X = {vocab_size_X}\\nVocabulary Size of y = {vocab_size_y}\")"
      ],
      "execution_count": 18,
      "outputs": [
        {
          "output_type": "stream",
          "text": [
            "Vocabulary Size of X = 101008\n",
            "Vocabulary Size of y = 44791\n"
          ],
          "name": "stdout"
        }
      ]
    },
    {
      "cell_type": "code",
      "metadata": {
        "id": "m4EQDuQPL_mw",
        "colab": {
          "base_uri": "https://localhost:8080/"
        },
        "outputId": "97e3d942-7c48-4dfe-8673-b6fc63e1750a"
      },
      "source": [
        "X_seq.shape, y_seq.shape"
      ],
      "execution_count": 19,
      "outputs": [
        {
          "output_type": "execute_result",
          "data": {
            "text/plain": [
              "((98401, 100), (98401, 100))"
            ]
          },
          "metadata": {
            "tags": []
          },
          "execution_count": 19
        }
      ]
    },
    {
      "cell_type": "markdown",
      "metadata": {
        "id": "3-y996r3CiK3"
      },
      "source": [
        "# Creating Embedding Matrices"
      ]
    },
    {
      "cell_type": "code",
      "metadata": {
        "id": "LvMYWy3jSoid"
      },
      "source": [
        "embedding_matrix_X = np.zeros((vocab_size_X, 100))\r\n",
        "for word, i in tokenizer_X.word_index.items():\r\n",
        "\tembedding_vector = word2embedding_X.get(word)\r\n",
        "\tif embedding_vector is not None:\r\n",
        "\t\tembedding_matrix_X[i] = embedding_vector"
      ],
      "execution_count": 20,
      "outputs": []
    },
    {
      "cell_type": "code",
      "metadata": {
        "id": "WFDSMxPVSokr"
      },
      "source": [
        "embedding_matrix_y = np.zeros((vocab_size_y, 100))\r\n",
        "for word, i in tokenizer_y.word_index.items():\r\n",
        "\tembedding_vector = word2embedding_y.get(word)\r\n",
        "\tif embedding_vector is not None:\r\n",
        "\t\tembedding_matrix_y[i] = embedding_vector"
      ],
      "execution_count": 21,
      "outputs": []
    },
    {
      "cell_type": "markdown",
      "metadata": {
        "id": "FLD1y02JsQVi"
      },
      "source": [
        "# Creating Sequences"
      ]
    },
    {
      "cell_type": "code",
      "metadata": {
        "id": "641jZljEhLD_",
        "colab": {
          "base_uri": "https://localhost:8080/"
        },
        "outputId": "59b533d7-e5f1-4384-fa4c-25e45fb5889e"
      },
      "source": [
        "X_train, X_test, y_train, y_test = train_test_split(X_seq, y_seq, test_size=0.05, random_state=42)\n",
        "X_train.shape, X_test.shape, y_train.shape, y_test.shape"
      ],
      "execution_count": 22,
      "outputs": [
        {
          "output_type": "execute_result",
          "data": {
            "text/plain": [
              "((93480, 100), (4921, 100), (93480, 100), (4921, 100))"
            ]
          },
          "metadata": {
            "tags": []
          },
          "execution_count": 22
        }
      ]
    },
    {
      "cell_type": "markdown",
      "metadata": {
        "id": "66T3f7P7kpJu"
      },
      "source": [
        "# Building Model"
      ]
    },
    {
      "cell_type": "code",
      "metadata": {
        "id": "cP_1VlEtAxw7"
      },
      "source": [
        "latent_dim = 1024"
      ],
      "execution_count": 23,
      "outputs": []
    },
    {
      "cell_type": "code",
      "metadata": {
        "id": "_0AsBDQpRzQY"
      },
      "source": [
        "def cosine_distance_custom_loss_function(ignore, vector):\r\n",
        "  vector1 = vector[:, :100:, :]\r\n",
        "  vector2 = vector[:, 100:, :]\r\n",
        "  return keras.losses.cosine_similarity(vector1, vector2)\r\n"
      ],
      "execution_count": 24,
      "outputs": []
    },
    {
      "cell_type": "code",
      "metadata": {
        "id": "RTEyC0mro0RT",
        "colab": {
          "base_uri": "https://localhost:8080/",
          "height": 293
        },
        "outputId": "8fb0c339-2557-4d95-f82e-d21301db6569"
      },
      "source": [
        "encoder_input_left = Input(shape=(Tx, ))\n",
        "encoder_input_right = Input(shape=(Ty, ))\n",
        "  \n",
        "encoder_embedding_left =  Embedding(vocab_size_X, 100, weights=[embedding_matrix_X], trainable=True)(encoder_input_left)\n",
        "encoder_embedding_right =  Embedding(vocab_size_y, 100, weights=[embedding_matrix_y], trainable=True)(encoder_input_right)\n",
        "\n",
        "encoder_LSTM_left_1 = Bidirectional(LSTM(latent_dim, return_state=True, return_sequences=True))\n",
        "encoder_output_left, forward_h_left, forward_c_left, backward_h_left, backward_c_left = encoder_LSTM_left_1(encoder_embedding_left)\n",
        "\n",
        "encoder_LSTM_right_1 = Bidirectional(LSTM(latent_dim, return_state=True, return_sequences=True))\n",
        "encoder_output_right, forward_h_right, forward_c_right, backward_h_right, backward_c_right = encoder_LSTM_right_1(encoder_embedding_right)\n",
        "\n",
        "# self attention\n",
        "# self attention\n",
        "\n",
        "merged = Concatenate(axis=1)([encoder_output_left, encoder_output_right])\n",
        "\n",
        "model = Model([encoder_input_left, encoder_input_right], merged)\n",
        "model.compile(optimizer=\"adam\", loss=cosine_distance_custom_loss_function)\n",
        "plot_model(model, show_shapes=True)"
      ],
      "execution_count": 25,
      "outputs": [
        {
          "output_type": "execute_result",
          "data": {
            "image/png": "[encoded data removed]",
            "text/plain": [
              "<IPython.core.display.Image object>"
            ]
          },
          "metadata": {
            "tags": []
          },
          "execution_count": 25
        }
      ]
    },
    {
      "cell_type": "code",
      "metadata": {
        "colab": {
          "base_uri": "https://localhost:8080/"
        },
        "id": "35EZwkfVSY0K",
        "outputId": "0b24d7eb-f54e-4244-c27b-72e5dcb92403"
      },
      "source": [
        "history = model.fit(\r\n",
        "    [X_train, y_train], \r\n",
        "    y_train.reshape(y_train.shape[0],y_train.shape[1], 1)[:,1:],\r\n",
        "    epochs=4,\r\n",
        "    batch_size=128, \r\n",
        "    )"
      ],
      "execution_count": null,
      "outputs": [
        {
          "output_type": "stream",
          "text": [
            "Epoch 1/4\n",
            "  6/731 [..............................] - ETA: 8:18:30 - loss: -0.2328"
          ],
          "name": "stdout"
        }
      ]
    },
    {
      "cell_type": "code",
      "metadata": {
        "id": "1uKy2moy-bCG"
      },
      "source": [
        ""
      ],
      "execution_count": null,
      "outputs": []
    }
  ]
}